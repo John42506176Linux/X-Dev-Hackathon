{
 "cells": [
  {
   "cell_type": "code",
   "execution_count": 1,
   "metadata": {},
   "outputs": [
    {
     "name": "stderr",
     "output_type": "stream",
     "text": [
      "c:\\Users\\kongtj\\Documents\\X-Dev-Hackathon\\x-dev\\lib\\site-packages\\tqdm\\auto.py:21: TqdmWarning: IProgress not found. Please update jupyter and ipywidgets. See https://ipywidgets.readthedocs.io/en/stable/user_install.html\n",
      "  from .autonotebook import tqdm as notebook_tqdm\n"
     ]
    }
   ],
   "source": [
    "import numpy as np\n",
    "import json\n",
    "from bertopic import BERTopic\n",
    "import openai\n",
    "import tiktoken\n",
    "import os\n",
    "from bertopic.representation import OpenAI\n",
    "from umap import UMAP"
   ]
  },
  {
   "cell_type": "code",
   "execution_count": 2,
   "metadata": {},
   "outputs": [],
   "source": [
    "with open('image_embeddings.json') as f:\n",
    "   embeddings = json.load(f)"
   ]
  },
  {
   "cell_type": "code",
   "execution_count": 3,
   "metadata": {},
   "outputs": [],
   "source": [
    "with open('text_list.json', 'r') as f:\n",
    "    text_list = json.load(f)"
   ]
  },
  {
   "cell_type": "code",
   "execution_count": 4,
   "metadata": {},
   "outputs": [
    {
     "data": {
      "text/plain": [
       "102"
      ]
     },
     "execution_count": 4,
     "metadata": {},
     "output_type": "execute_result"
    }
   ],
   "source": [
    "len(text_list)"
   ]
  },
  {
   "cell_type": "code",
   "execution_count": 12,
   "metadata": {},
   "outputs": [
    {
     "data": {
      "text/plain": [
       "2"
      ]
     },
     "execution_count": 12,
     "metadata": {},
     "output_type": "execute_result"
    }
   ],
   "source": [
    "len(embeddings[1])"
   ]
  },
  {
   "cell_type": "code",
   "execution_count": 13,
   "metadata": {},
   "outputs": [
    {
     "ename": "ValueError",
     "evalue": "setting an array element with a sequence. The requested array has an inhomogeneous shape after 2 dimensions. The detected shape was (32, 2) + inhomogeneous part.",
     "output_type": "error",
     "traceback": [
      "\u001b[1;31m---------------------------------------------------------------------------\u001b[0m",
      "\u001b[1;31mValueError\u001b[0m                                Traceback (most recent call last)",
      "Cell \u001b[1;32mIn[13], line 1\u001b[0m\n\u001b[1;32m----> 1\u001b[0m x \u001b[38;5;241m=\u001b[39m \u001b[43mnp\u001b[49m\u001b[38;5;241;43m.\u001b[39;49m\u001b[43marray\u001b[49m\u001b[43m(\u001b[49m\u001b[43membeddings\u001b[49m\u001b[43m)\u001b[49m\n",
      "\u001b[1;31mValueError\u001b[0m: setting an array element with a sequence. The requested array has an inhomogeneous shape after 2 dimensions. The detected shape was (32, 2) + inhomogeneous part."
     ]
    }
   ],
   "source": [
    "x = np.array(embeddings)"
   ]
  },
  {
   "cell_type": "code",
   "execution_count": 8,
   "metadata": {},
   "outputs": [
    {
     "ename": "ValueError",
     "evalue": "Make sure to input embeddings as a numpy array or scipy.sparse.csr.csr_matrix. ",
     "output_type": "error",
     "traceback": [
      "\u001b[1;31m---------------------------------------------------------------------------\u001b[0m",
      "\u001b[1;31mValueError\u001b[0m                                Traceback (most recent call last)",
      "Cell \u001b[1;32mIn[8], line 2\u001b[0m\n\u001b[0;32m      1\u001b[0m topic_model \u001b[38;5;241m=\u001b[39m BERTopic()\n\u001b[1;32m----> 2\u001b[0m topics, probs \u001b[38;5;241m=\u001b[39m \u001b[43mtopic_model\u001b[49m\u001b[38;5;241;43m.\u001b[39;49m\u001b[43mfit_transform\u001b[49m\u001b[43m(\u001b[49m\u001b[43membeddings\u001b[49m\u001b[38;5;241;43m=\u001b[39;49m\u001b[43membeddings\u001b[49m\u001b[43m,\u001b[49m\u001b[43m \u001b[49m\u001b[43mdocuments\u001b[49m\u001b[38;5;241;43m=\u001b[39;49m\u001b[43mtext_list\u001b[49m\u001b[43m)\u001b[49m\n",
      "File \u001b[1;32mc:\\Users\\kongtj\\Documents\\X-Dev-Hackathon\\x-dev\\lib\\site-packages\\bertopic\\_bertopic.py:374\u001b[0m, in \u001b[0;36mBERTopic.fit_transform\u001b[1;34m(self, documents, embeddings, images, y)\u001b[0m\n\u001b[0;32m    372\u001b[0m \u001b[38;5;28;01mif\u001b[39;00m documents \u001b[38;5;129;01mis\u001b[39;00m \u001b[38;5;129;01mnot\u001b[39;00m \u001b[38;5;28;01mNone\u001b[39;00m:\n\u001b[0;32m    373\u001b[0m     check_documents_type(documents)\n\u001b[1;32m--> 374\u001b[0m     \u001b[43mcheck_embeddings_shape\u001b[49m\u001b[43m(\u001b[49m\u001b[43membeddings\u001b[49m\u001b[43m,\u001b[49m\u001b[43m \u001b[49m\u001b[43mdocuments\u001b[49m\u001b[43m)\u001b[49m\n\u001b[0;32m    376\u001b[0m doc_ids \u001b[38;5;241m=\u001b[39m \u001b[38;5;28mrange\u001b[39m(\u001b[38;5;28mlen\u001b[39m(documents)) \u001b[38;5;28;01mif\u001b[39;00m documents \u001b[38;5;129;01mis\u001b[39;00m \u001b[38;5;129;01mnot\u001b[39;00m \u001b[38;5;28;01mNone\u001b[39;00m \u001b[38;5;28;01melse\u001b[39;00m \u001b[38;5;28mrange\u001b[39m(\u001b[38;5;28mlen\u001b[39m(images))\n\u001b[0;32m    377\u001b[0m documents \u001b[38;5;241m=\u001b[39m pd\u001b[38;5;241m.\u001b[39mDataFrame({\u001b[38;5;124m\"\u001b[39m\u001b[38;5;124mDocument\u001b[39m\u001b[38;5;124m\"\u001b[39m: documents,\n\u001b[0;32m    378\u001b[0m                           \u001b[38;5;124m\"\u001b[39m\u001b[38;5;124mID\u001b[39m\u001b[38;5;124m\"\u001b[39m: doc_ids,\n\u001b[0;32m    379\u001b[0m                           \u001b[38;5;124m\"\u001b[39m\u001b[38;5;124mTopic\u001b[39m\u001b[38;5;124m\"\u001b[39m: \u001b[38;5;28;01mNone\u001b[39;00m,\n\u001b[0;32m    380\u001b[0m                           \u001b[38;5;124m\"\u001b[39m\u001b[38;5;124mImage\u001b[39m\u001b[38;5;124m\"\u001b[39m: images})\n",
      "File \u001b[1;32mc:\\Users\\kongtj\\Documents\\X-Dev-Hackathon\\x-dev\\lib\\site-packages\\bertopic\\_utils.py:52\u001b[0m, in \u001b[0;36mcheck_embeddings_shape\u001b[1;34m(embeddings, docs)\u001b[0m\n\u001b[0;32m     50\u001b[0m \u001b[38;5;28;01mif\u001b[39;00m embeddings \u001b[38;5;129;01mis\u001b[39;00m \u001b[38;5;129;01mnot\u001b[39;00m \u001b[38;5;28;01mNone\u001b[39;00m:\n\u001b[0;32m     51\u001b[0m     \u001b[38;5;28;01mif\u001b[39;00m \u001b[38;5;129;01mnot\u001b[39;00m \u001b[38;5;28many\u001b[39m([\u001b[38;5;28misinstance\u001b[39m(embeddings, np\u001b[38;5;241m.\u001b[39mndarray), \u001b[38;5;28misinstance\u001b[39m(embeddings, csr_matrix)]):\n\u001b[1;32m---> 52\u001b[0m         \u001b[38;5;28;01mraise\u001b[39;00m \u001b[38;5;167;01mValueError\u001b[39;00m(\u001b[38;5;124m\"\u001b[39m\u001b[38;5;124mMake sure to input embeddings as a numpy array or scipy.sparse.csr.csr_matrix. \u001b[39m\u001b[38;5;124m\"\u001b[39m)\n\u001b[0;32m     53\u001b[0m     \u001b[38;5;28;01melse\u001b[39;00m:\n\u001b[0;32m     54\u001b[0m         \u001b[38;5;28;01mif\u001b[39;00m embeddings\u001b[38;5;241m.\u001b[39mshape[\u001b[38;5;241m0\u001b[39m] \u001b[38;5;241m!=\u001b[39m \u001b[38;5;28mlen\u001b[39m(docs):\n",
      "\u001b[1;31mValueError\u001b[0m: Make sure to input embeddings as a numpy array or scipy.sparse.csr.csr_matrix. "
     ]
    }
   ],
   "source": [
    "topic_model = BERTopic()\n",
    "topics, probs = topic_model.fit_transform(embeddings=embeddings, documents=text_list)"
   ]
  },
  {
   "cell_type": "code",
   "execution_count": 7,
   "metadata": {},
   "outputs": [
    {
     "data": {
      "text/html": [
       "<div>\n",
       "<style scoped>\n",
       "    .dataframe tbody tr th:only-of-type {\n",
       "        vertical-align: middle;\n",
       "    }\n",
       "\n",
       "    .dataframe tbody tr th {\n",
       "        vertical-align: top;\n",
       "    }\n",
       "\n",
       "    .dataframe thead th {\n",
       "        text-align: right;\n",
       "    }\n",
       "</style>\n",
       "<table border=\"1\" class=\"dataframe\">\n",
       "  <thead>\n",
       "    <tr style=\"text-align: right;\">\n",
       "      <th></th>\n",
       "      <th>Topic</th>\n",
       "      <th>Count</th>\n",
       "      <th>Name</th>\n",
       "      <th>Representation</th>\n",
       "      <th>Representative_Docs</th>\n",
       "    </tr>\n",
       "  </thead>\n",
       "  <tbody>\n",
       "    <tr>\n",
       "      <th>0</th>\n",
       "      <td>-1</td>\n",
       "      <td>17</td>\n",
       "      <td>-1_the_is_to_and</td>\n",
       "      <td>[the, is, to, and, it, from, of, we, this, lan...</td>\n",
       "      <td>[@neuralink Long-term, it is possible to shunt...</td>\n",
       "    </tr>\n",
       "    <tr>\n",
       "      <th>1</th>\n",
       "      <td>0</td>\n",
       "      <td>45</td>\n",
       "      <td>0_the_of_to_and</td>\n",
       "      <td>[the, of, to, and, on, is, in, we, it, that]</td>\n",
       "      <td>[Something that makes SWE a particularly feasi...</td>\n",
       "    </tr>\n",
       "    <tr>\n",
       "      <th>2</th>\n",
       "      <td>1</td>\n",
       "      <td>40</td>\n",
       "      <td>1_this_the_to_is</td>\n",
       "      <td>[this, the, to, is, so, you, can, your, bengal...</td>\n",
       "      <td>[We're announcing TacticAI: an AI assistant ca...</td>\n",
       "    </tr>\n",
       "  </tbody>\n",
       "</table>\n",
       "</div>"
      ],
      "text/plain": [
       "   Topic  Count              Name  \\\n",
       "0     -1     17  -1_the_is_to_and   \n",
       "1      0     45   0_the_of_to_and   \n",
       "2      1     40  1_this_the_to_is   \n",
       "\n",
       "                                      Representation  \\\n",
       "0  [the, is, to, and, it, from, of, we, this, lan...   \n",
       "1       [the, of, to, and, on, is, in, we, it, that]   \n",
       "2  [this, the, to, is, so, you, can, your, bengal...   \n",
       "\n",
       "                                 Representative_Docs  \n",
       "0  [@neuralink Long-term, it is possible to shunt...  \n",
       "1  [Something that makes SWE a particularly feasi...  \n",
       "2  [We're announcing TacticAI: an AI assistant ca...  "
      ]
     },
     "execution_count": 7,
     "metadata": {},
     "output_type": "execute_result"
    }
   ],
   "source": [
    "topic_model.get_topic_info()"
   ]
  },
  {
   "cell_type": "code",
   "execution_count": 9,
   "metadata": {},
   "outputs": [],
   "source": [
    "prompt = \"\"\"\n",
    "I have topic that contains the following documents: \\n[DOCUMENTS]\n",
    "The topic is described by the following keywords: [KEYWORDS]\n",
    "\n",
    "Based on the above information, can you give a short label of the topic?\n",
    "\n",
    "The topics should have optinions based on the documents and keywords. Here are some examples of topics:\n",
    "- Who Will the Bengals Draft?\n",
    "- Earth on a Record Hot Streak\n",
    "- Senate Authorizes Controversial Surveillance Program\n",
    "- Jujutsu Kaisen -  Nah, I'd Pass\n",
    "- Netflix's One Piece Review: A Not-Quite Grand Line\n",
    "- Humane AI Pin Reveals its Fatal Flaw\n",
    "\"\"\""
   ]
  },
  {
   "cell_type": "code",
   "execution_count": 10,
   "metadata": {},
   "outputs": [],
   "source": [
    "tokenizer= tiktoken.encoding_for_model(\"gpt-3.5-turbo\")\n",
    "\n",
    "client = openai.OpenAI(api_key=api_key)\n",
    "representation_model = OpenAI(\n",
    "    client,\n",
    "    model=\"gpt-3.5-turbo\", \n",
    "    delay_in_seconds=2, \n",
    "    chat=True,\n",
    "    nr_docs=4,\n",
    "    doc_length=100,\n",
    "    tokenizer=tokenizer,\n",
    "    prompt= prompt\n",
    ")"
   ]
  },
  {
   "cell_type": "code",
   "execution_count": 11,
   "metadata": {},
   "outputs": [],
   "source": [
    "topic_model = BERTopic(representation_model=representation_model, verbose=True)"
   ]
  },
  {
   "cell_type": "code",
   "execution_count": 12,
   "metadata": {},
   "outputs": [
    {
     "name": "stderr",
     "output_type": "stream",
     "text": [
      "2024-04-20 18:34:34,509 - BERTopic - Dimensionality - Fitting the dimensionality reduction algorithm\n",
      "2024-04-20 18:34:35,470 - BERTopic - Dimensionality - Completed ✓\n",
      "2024-04-20 18:34:35,471 - BERTopic - Cluster - Start clustering the reduced embeddings\n",
      "2024-04-20 18:34:35,473 - BERTopic - Cluster - Completed ✓\n",
      "2024-04-20 18:34:35,474 - BERTopic - Representation - Extracting topics from clusters using representation models.\n",
      "100%|██████████| 3/3 [00:08<00:00,  2.75s/it]\n",
      "2024-04-20 18:34:43,737 - BERTopic - Representation - Completed ✓\n"
     ]
    }
   ],
   "source": [
    "topics, probs = topic_model.fit_transform(embeddings=x, documents=text_list)"
   ]
  },
  {
   "cell_type": "code",
   "execution_count": 13,
   "metadata": {},
   "outputs": [
    {
     "data": {
      "text/plain": [
       "['-1_\"Exploring Language, Thoughts, and Technology: From Stroke Recovery to Open-Source Robotics\"',\n",
       " '0_- Open-Source Firmware Development for GPUs',\n",
       " '1_\"Exploring the Impact of AI in Sports and Home Automation with 01 Developer Preview\"']"
      ]
     },
     "execution_count": 13,
     "metadata": {},
     "output_type": "execute_result"
    }
   ],
   "source": [
    "list(topic_model.get_topic_info()['Name'])"
   ]
  },
  {
   "cell_type": "markdown",
   "metadata": {},
   "source": [
    "## Visualization"
   ]
  },
  {
   "cell_type": "code",
   "execution_count": 14,
   "metadata": {},
   "outputs": [
    {
     "name": "stderr",
     "output_type": "stream",
     "text": [
      "100%|██████████| 1/1 [00:00<00:00, 66.15it/s]\n"
     ]
    },
    {
     "data": {
      "text/html": [
       "<style type=\"text/css\">\n",
       "#T_90769_row0_col0, #T_90769_row0_col1, #T_90769_row0_col2, #T_90769_row0_col3, #T_90769_row0_col4, #T_90769_row0_col5 {\n",
       "  background-color: #f7fbff;\n",
       "  color: #000000;\n",
       "  color: white;\n",
       "  background-color: white;\n",
       "}\n",
       "#T_90769_row0_col6 {\n",
       "  background-color: #bed8ec;\n",
       "  color: #000000;\n",
       "  color: black;\n",
       "}\n",
       "#T_90769_row0_col7 {\n",
       "  background-color: #7ab6d9;\n",
       "  color: #000000;\n",
       "  color: black;\n",
       "}\n",
       "#T_90769_row0_col8 {\n",
       "  background-color: #3282be;\n",
       "  color: #f1f1f1;\n",
       "  color: black;\n",
       "}\n",
       "#T_90769_row0_col9 {\n",
       "  background-color: #08306b;\n",
       "  color: #f1f1f1;\n",
       "  color: black;\n",
       "}\n",
       "#T_90769_row0_col10 {\n",
       "  background-color: #2777b8;\n",
       "  color: #f1f1f1;\n",
       "  color: black;\n",
       "}\n",
       "#T_90769_row0_col11 {\n",
       "  background-color: #5fa6d1;\n",
       "  color: #f1f1f1;\n",
       "  color: black;\n",
       "}\n",
       "#T_90769_row0_col12 {\n",
       "  background-color: #b2d2e8;\n",
       "  color: #000000;\n",
       "  color: black;\n",
       "}\n",
       "#T_90769_row1_col0 {\n",
       "  background-color: #c8dcf0;\n",
       "  color: #000000;\n",
       "  color: black;\n",
       "}\n",
       "#T_90769_row1_col1 {\n",
       "  background-color: #81badb;\n",
       "  color: #000000;\n",
       "  color: black;\n",
       "}\n",
       "#T_90769_row1_col2 {\n",
       "  background-color: #3b8bc2;\n",
       "  color: #f1f1f1;\n",
       "  color: black;\n",
       "}\n",
       "#T_90769_row1_col3 {\n",
       "  background-color: #084a91;\n",
       "  color: #f1f1f1;\n",
       "  color: black;\n",
       "}\n",
       "#T_90769_row1_col4 {\n",
       "  background-color: #084e98;\n",
       "  color: #f1f1f1;\n",
       "  color: black;\n",
       "}\n",
       "#T_90769_row1_col5 {\n",
       "  background-color: #09529d;\n",
       "  color: #f1f1f1;\n",
       "  color: black;\n",
       "}\n",
       "#T_90769_row1_col6 {\n",
       "  background-color: #0e59a2;\n",
       "  color: #f1f1f1;\n",
       "  color: black;\n",
       "}\n",
       "#T_90769_row1_col7 {\n",
       "  background-color: #4d99ca;\n",
       "  color: #f1f1f1;\n",
       "  color: black;\n",
       "}\n",
       "#T_90769_row1_col8 {\n",
       "  background-color: #a0cbe2;\n",
       "  color: #000000;\n",
       "  color: black;\n",
       "}\n",
       "#T_90769_row1_col9 {\n",
       "  background-color: #a6cee4;\n",
       "  color: #000000;\n",
       "  color: black;\n",
       "}\n",
       "#T_90769_row1_col10, #T_90769_row1_col11, #T_90769_row1_col12 {\n",
       "  background-color: #d6e5f4;\n",
       "  color: #000000;\n",
       "  color: black;\n",
       "}\n",
       "</style>\n",
       "<table id=\"T_90769\">\n",
       "  <thead>\n",
       "    <tr>\n",
       "      <th class=\"blank level0\" >&nbsp;</th>\n",
       "      <th id=\"T_90769_level0_col0\" class=\"col_heading level0 col0\" >RT</th>\n",
       "      <th id=\"T_90769_level0_col1\" class=\"col_heading level0 col1\" >JoeyB </th>\n",
       "      <th id=\"T_90769_level0_col2\" class=\"col_heading level0 col2\" >Might  </th>\n",
       "      <th id=\"T_90769_level0_col3\" class=\"col_heading level0 col3\" >as   </th>\n",
       "      <th id=\"T_90769_level0_col4\" class=\"col_heading level0 col4\" >well    </th>\n",
       "      <th id=\"T_90769_level0_col5\" class=\"col_heading level0 col5\" >win     </th>\n",
       "      <th id=\"T_90769_level0_col6\" class=\"col_heading level0 col6\" >it      </th>\n",
       "      <th id=\"T_90769_level0_col7\" class=\"col_heading level0 col7\" >all       </th>\n",
       "      <th id=\"T_90769_level0_col8\" class=\"col_heading level0 col8\" >while        </th>\n",
       "      <th id=\"T_90769_level0_col9\" class=\"col_heading level0 col9\" >we         </th>\n",
       "      <th id=\"T_90769_level0_col10\" class=\"col_heading level0 col10\" >re          </th>\n",
       "      <th id=\"T_90769_level0_col11\" class=\"col_heading level0 col11\" >at           </th>\n",
       "      <th id=\"T_90769_level0_col12\" class=\"col_heading level0 col12\" >it            </th>\n",
       "    </tr>\n",
       "  </thead>\n",
       "  <tbody>\n",
       "    <tr>\n",
       "      <th id=\"T_90769_level0_row0\" class=\"row_heading level0 row0\" >0_- Open-Source Firmware Development for GPUs</th>\n",
       "      <td id=\"T_90769_row0_col0\" class=\"data row0 col0\" >0.000</td>\n",
       "      <td id=\"T_90769_row0_col1\" class=\"data row0 col1\" >0.000</td>\n",
       "      <td id=\"T_90769_row0_col2\" class=\"data row0 col2\" >0.000</td>\n",
       "      <td id=\"T_90769_row0_col3\" class=\"data row0 col3\" >0.000</td>\n",
       "      <td id=\"T_90769_row0_col4\" class=\"data row0 col4\" >0.000</td>\n",
       "      <td id=\"T_90769_row0_col5\" class=\"data row0 col5\" >0.000</td>\n",
       "      <td id=\"T_90769_row0_col6\" class=\"data row0 col6\" >0.161</td>\n",
       "      <td id=\"T_90769_row0_col7\" class=\"data row0 col7\" >0.273</td>\n",
       "      <td id=\"T_90769_row0_col8\" class=\"data row0 col8\" >0.403</td>\n",
       "      <td id=\"T_90769_row0_col9\" class=\"data row0 col9\" >0.587</td>\n",
       "      <td id=\"T_90769_row0_col10\" class=\"data row0 col10\" >0.426</td>\n",
       "      <td id=\"T_90769_row0_col11\" class=\"data row0 col11\" >0.314</td>\n",
       "      <td id=\"T_90769_row0_col12\" class=\"data row0 col12\" >0.184</td>\n",
       "    </tr>\n",
       "    <tr>\n",
       "      <th id=\"T_90769_level0_row1\" class=\"row_heading level0 row1\" >1_\"Exploring the Impact of AI in Sports and Home Automation with 01 Developer Preview\"</th>\n",
       "      <td id=\"T_90769_row1_col0\" class=\"data row1 col0\" >0.141</td>\n",
       "      <td id=\"T_90769_row1_col1\" class=\"data row1 col1\" >0.262</td>\n",
       "      <td id=\"T_90769_row1_col2\" class=\"data row1 col2\" >0.383</td>\n",
       "      <td id=\"T_90769_row1_col3\" class=\"data row1 col3\" >0.529</td>\n",
       "      <td id=\"T_90769_row1_col4\" class=\"data row1 col4\" >0.519</td>\n",
       "      <td id=\"T_90769_row1_col5\" class=\"data row1 col5\" >0.510</td>\n",
       "      <td id=\"T_90769_row1_col6\" class=\"data row1 col6\" >0.494</td>\n",
       "      <td id=\"T_90769_row1_col7\" class=\"data row1 col7\" >0.347</td>\n",
       "      <td id=\"T_90769_row1_col8\" class=\"data row1 col8\" >0.217</td>\n",
       "      <td id=\"T_90769_row1_col9\" class=\"data row1 col9\" >0.206</td>\n",
       "      <td id=\"T_90769_row1_col10\" class=\"data row1 col10\" >0.101</td>\n",
       "      <td id=\"T_90769_row1_col11\" class=\"data row1 col11\" >0.101</td>\n",
       "      <td id=\"T_90769_row1_col12\" class=\"data row1 col12\" >0.101</td>\n",
       "    </tr>\n",
       "  </tbody>\n",
       "</table>\n"
      ],
      "text/plain": [
       "<pandas.io.formats.style.Styler at 0x3412d6390>"
      ]
     },
     "execution_count": 14,
     "metadata": {},
     "output_type": "execute_result"
    }
   ],
   "source": [
    "topic_distr, topic_token_distr = topic_model.approximate_distribution(text_list, calculate_tokens=True)\n",
    "\n",
    "df = topic_model.visualize_approximate_distribution(text_list[1], topic_token_distr[1])\n",
    "df"
   ]
  },
  {
   "cell_type": "code",
   "execution_count": 21,
   "metadata": {},
   "outputs": [
    {
     "ename": "ValueError",
     "evalue": "Mime type rendering requires nbformat>=4.2.0 but it is not installed",
     "output_type": "error",
     "traceback": [
      "\u001b[0;31m---------------------------------------------------------------------------\u001b[0m",
      "\u001b[0;31mValueError\u001b[0m                                Traceback (most recent call last)",
      "File \u001b[0;32m~/Desktop/CODE/X-Dev-Hackathon/backend/.venv/lib/python3.12/site-packages/IPython/core/formatters.py:925\u001b[0m, in \u001b[0;36mIPythonDisplayFormatter.__call__\u001b[0;34m(self, obj)\u001b[0m\n\u001b[1;32m    923\u001b[0m method \u001b[38;5;241m=\u001b[39m get_real_method(obj, \u001b[38;5;28mself\u001b[39m\u001b[38;5;241m.\u001b[39mprint_method)\n\u001b[1;32m    924\u001b[0m \u001b[38;5;28;01mif\u001b[39;00m method \u001b[38;5;129;01mis\u001b[39;00m \u001b[38;5;129;01mnot\u001b[39;00m \u001b[38;5;28;01mNone\u001b[39;00m:\n\u001b[0;32m--> 925\u001b[0m     \u001b[43mmethod\u001b[49m\u001b[43m(\u001b[49m\u001b[43m)\u001b[49m\n\u001b[1;32m    926\u001b[0m     \u001b[38;5;28;01mreturn\u001b[39;00m \u001b[38;5;28;01mTrue\u001b[39;00m\n",
      "File \u001b[0;32m~/Desktop/CODE/X-Dev-Hackathon/backend/.venv/lib/python3.12/site-packages/plotly/basedatatypes.py:832\u001b[0m, in \u001b[0;36mBaseFigure._ipython_display_\u001b[0;34m(self)\u001b[0m\n\u001b[1;32m    829\u001b[0m \u001b[38;5;28;01mimport\u001b[39;00m \u001b[38;5;21;01mplotly\u001b[39;00m\u001b[38;5;21;01m.\u001b[39;00m\u001b[38;5;21;01mio\u001b[39;00m \u001b[38;5;28;01mas\u001b[39;00m \u001b[38;5;21;01mpio\u001b[39;00m\n\u001b[1;32m    831\u001b[0m \u001b[38;5;28;01mif\u001b[39;00m pio\u001b[38;5;241m.\u001b[39mrenderers\u001b[38;5;241m.\u001b[39mrender_on_display \u001b[38;5;129;01mand\u001b[39;00m pio\u001b[38;5;241m.\u001b[39mrenderers\u001b[38;5;241m.\u001b[39mdefault:\n\u001b[0;32m--> 832\u001b[0m     \u001b[43mpio\u001b[49m\u001b[38;5;241;43m.\u001b[39;49m\u001b[43mshow\u001b[49m\u001b[43m(\u001b[49m\u001b[38;5;28;43mself\u001b[39;49m\u001b[43m)\u001b[49m\n\u001b[1;32m    833\u001b[0m \u001b[38;5;28;01melse\u001b[39;00m:\n\u001b[1;32m    834\u001b[0m     \u001b[38;5;28mprint\u001b[39m(\u001b[38;5;28mrepr\u001b[39m(\u001b[38;5;28mself\u001b[39m))\n",
      "File \u001b[0;32m~/Desktop/CODE/X-Dev-Hackathon/backend/.venv/lib/python3.12/site-packages/plotly/io/_renderers.py:394\u001b[0m, in \u001b[0;36mshow\u001b[0;34m(fig, renderer, validate, **kwargs)\u001b[0m\n\u001b[1;32m    389\u001b[0m         \u001b[38;5;28;01mraise\u001b[39;00m \u001b[38;5;167;01mValueError\u001b[39;00m(\n\u001b[1;32m    390\u001b[0m             \u001b[38;5;124m\"\u001b[39m\u001b[38;5;124mMime type rendering requires ipython but it is not installed\u001b[39m\u001b[38;5;124m\"\u001b[39m\n\u001b[1;32m    391\u001b[0m         )\n\u001b[1;32m    393\u001b[0m     \u001b[38;5;28;01mif\u001b[39;00m \u001b[38;5;129;01mnot\u001b[39;00m nbformat \u001b[38;5;129;01mor\u001b[39;00m Version(nbformat\u001b[38;5;241m.\u001b[39m__version__) \u001b[38;5;241m<\u001b[39m Version(\u001b[38;5;124m\"\u001b[39m\u001b[38;5;124m4.2.0\u001b[39m\u001b[38;5;124m\"\u001b[39m):\n\u001b[0;32m--> 394\u001b[0m         \u001b[38;5;28;01mraise\u001b[39;00m \u001b[38;5;167;01mValueError\u001b[39;00m(\n\u001b[1;32m    395\u001b[0m             \u001b[38;5;124m\"\u001b[39m\u001b[38;5;124mMime type rendering requires nbformat>=4.2.0 but it is not installed\u001b[39m\u001b[38;5;124m\"\u001b[39m\n\u001b[1;32m    396\u001b[0m         )\n\u001b[1;32m    398\u001b[0m     ipython_display\u001b[38;5;241m.\u001b[39mdisplay(bundle, raw\u001b[38;5;241m=\u001b[39m\u001b[38;5;28;01mTrue\u001b[39;00m)\n\u001b[1;32m    400\u001b[0m \u001b[38;5;66;03m# external renderers\u001b[39;00m\n",
      "\u001b[0;31mValueError\u001b[0m: Mime type rendering requires nbformat>=4.2.0 but it is not installed"
     ]
    },
    {
     "data": {
      "application/vnd.plotly.v1+json": {
       "config": {
        "plotlyServerURL": "https://plot.ly"
       },
       "data": [
        {
         "hoverinfo": "text",
         "hovertext": [
          "🤯 crazy exchange on @modal_labs slack between @cognition_labs 's Devin &amp; modal's support team https://t.co/GZ6c5uaO5V",
          "if the 13-year and 17-year cicadas are both emerging this summer, a double emergence that only occurs every ~200yrs, and both will concentrate in Illinois, where more than 13% of US corn is grown, should we be shorting corn futures yes or no",
          "@LowLevelTweets oh shit forgot the sun uses internet",
          "if i was on v*rcel i would have gotten a 50k bill today",
          "I think I speak for everyone here when I say: 314 billion parameters what the hell",
          "First photo is scatter plot with a strong correlation between two variables that obviously should correlate (not to mention it is about as bivariate normal as you would see in nature). The next three are some of the replies… https://t.co/SXLf3rm5Do",
          "The car was invented in 1886 but horses weren’t replaced as a means for transportation until 1920’s for early adopter regions and 1950’s everywhere.\n\nTransformative technology doesn’t appear everywhere immediately. The future is not evenly distributed and not easily distributed.",
          "RT @itsandrewgao: 2nd out of 79 teams and 300+ hackers at the @scale_AI hackathon! Shoutout to my teammates @akapoor1201 @VidithBalasa @Ale…",
          "The FCC just changed the broadband internet minimum requirement from 25mbps to 100mbps https://t.co/tyEQax9rOQ",
          "At Berkeley, we drink real coffee. 6 shots of straight espresso, every morning (minimum).\n- 1x speed, teleoperated from 6,965 miles away. \n- 87ms photon-to-photon latency.\n- Unprecedented dexterity.\nHow did we do it? We lay out our unique technical approaches below and what… https://t.co/lG9tawOBVQ https://t.co/Ai3VL6aIJk",
          "here’s a fun fact: almost all modern computer systems depend on a single time zone database that gets updated when local laws change\n\nit’s maintained by two people https://t.co/NBWjgot8JM",
          "@cb_doge Blindsight is the next @Neuralink product after Telepathy",
          "Very nice to see Grok go open-source &amp; open-weights: https://t.co/RTlvQarPzy",
          "my wife bought a lamp that needs our wifi password\n\nthe future blows",
          "today I set up vtuber software and a model all open source in like an hour. the renderer was on godot and the facial tracking was some random python script I found online. it actually works quite well and I will be hacking with it more",
          "AI to read your mind is getting a LOT better.\n\nJust released: #MindEye2 is leagues ahead of previous AI systems\n\n(brain waves -&gt; CLIP space -&gt; pixels) https://t.co/JTSrJfh2RF",
          "@neuralink Long-term, it is possible to shunt the signals from the brain motor cortex past the damaged part of the spine to enable people to walk again and use their arms normally",
          "Open-source robot arm for about $200. It uses five Dynamixel servo motors and weighs slightly over 100g (without the base). The design for a leader arm is included as well so that you can teleoperate it effectively. (Video is at 1x speed)\nhttps://t.co/2J1aS6IToF https://t.co/AtZK8C7c9z",
          "xz backdoor code shipped with a good ol' LGTM https://t.co/WlVAooN7Cb",
          "@samschmitz Compare watt hour measurements from microprocessors whose electric connectivity or lack thereof is unknown\n\nThat's the resource. Lol\n\nOh...Linemen changed which Substation was feeding 462 of the 2,156 meters fed by this Distribution for 173.35 of the 8,760 hours last year?\n\nWe… https://t.co/MafLGdsEh7",
          "Only in #SanFrancisco does this ad make sense on a bullock at the train station.  A key rule of advertising is to know your customer.  Nailed it.  I'm thinking, \"yes, indeed, I do want to save $20M on my next H100 bill\". https://t.co/APkbMAYz85",
          "We can think, even if our language abilities are destroyed by a stroke.\nLanguage is a way to express thoughts, but thoughts, memories, and reasoning exist without language.\n\nFavorite quote from this MIT piece: \"This language system seems to be distinct from regions that are… https://t.co/6TAVKGtPAP https://t.co/LX4L1MAn4Y",
          "@elonmusk @xai ░W░E░I░G░H░T░S░I░N░B░I░O░",
          "I just hit 50k req/sec on a $25/mo VM. https://t.co/ED5B8YKn6y",
          "Is anyone able to track Jia Tan’s (xz backdoor person) real identity? This guy is a menace to society.",
          null
         ],
         "marker": {
          "color": "#CFD8DC",
          "opacity": 0.5,
          "size": 5
         },
         "mode": "markers+text",
         "name": "other",
         "showlegend": false,
         "type": "scattergl",
         "x": [
          7.336881,
          6.5699134,
          7.6986756,
          8.140243,
          7.8931403,
          6.5083485,
          8.654214,
          7.5240145,
          7.885739,
          8.207318,
          7.072085,
          8.583103,
          6.1603975,
          7.773062,
          6.317928,
          8.565897,
          8.694534,
          8.241678,
          9.635758,
          7.079407,
          8.164407,
          8.647582,
          8.7478895,
          7.8418913,
          9.580633,
          7.90099
         ],
         "y": [
          16.283909,
          17.19205,
          17.534658,
          18.105211,
          16.692139,
          17.10225,
          16.282816,
          15.935648,
          17.957682,
          15.891165,
          17.081125,
          15.470342,
          14.968243,
          17.346167,
          15.276451,
          15.4679365,
          15.244956,
          16.044731,
          16.147213,
          17.033436,
          18.000818,
          15.133534,
          16.44845,
          18.018925,
          16.232307,
          16.515686
         ]
        },
        {
         "hoverinfo": "text",
         "hovertext": [
          "average C bug: buried deep in a long 200 line function you forgot to unlink an element from a linked list before freeing it\n\naverage C++ bug: you wrote “a = b;” but unbeknownst to you “a” has = overloaded and the code for that makes subtle assumptions that are false in your case",
          "Bitcoin is a bounty for SHA-256",
          "No need to hire me, just open source the 7900XTX firmware+docs and remove the signature check. We'd treat it like bring up for our own chip, get builds in CI, HITL testing, fuzzing, etc...\n\nDeadline, end of the week? Otherwise I'm not spending more time thinking about this. https://t.co/x8XVy6aM4B",
          "How to write CUDA on AMD. https://t.co/CMQRMwkqgn",
          "I think our most crucial finding is that although humans think far ahead while speaking (especially while doing complex reasoning problems) it turns out that transformer language models.... don't seem to do that.\n\nthey just predict the next token. https://t.co/0mNUYAJ3PU",
          "Update I replaced (X/Y) with X*(1/Y) and now it passes timing check. \n\nI learned this trick from some girl from MIT at my last job lol. Everyone is blown away with my skills. \n\nThere is no reason why it’s inherently faster just synthesis tools optimize it better. https://t.co/VcduwI76iZ",
          "Ahh, with the founder of Groq...how about a $10k wager?\n\nWe keep the machine if we succeed. You get the machine back and $10k if we don't deliver open source 500+ T/s mixtral within 8 weeks. https://t.co/VFm1wEVDgm",
          "I watched @ylecun episode on @lexfridman and I think his bigger point is we should use a different architecture to actually make AI understand concepts\n\nInstead of just autocompleting word tokens like in LLMs or pixels/patches in image/video gen\n\nHe wants an AI to actually… https://t.co/OArpAOMnrh https://t.co/7scsRvFIzm",
          "A nice example of how LLMs use statistics (a common riddle) and not understanding (what the question actually means). https://t.co/5Dtq60yxgX",
          "We are putting resources into Intel now. multiGPU training worked out of the box, and haven't seen a lick of driver instability. The A770 card is currently slow though, we need to add XMX support ($400 bounty added) https://t.co/GPhGD4kgnT",
          "My daughter asked today why it is impossible to divide by zero. \n\nThe analogy with dividing apples for people doesn’t work anymore 😂\n\nDo you know why, without googling?",
          "Researcher in deep-learning adjusting the model's architecture to beat the benchmarks. https://t.co/lFHvqb2Usp",
          "CUDA-MODE 10: Build a production ready CUDA library\n\nDiscover solutions for fast prototyping, performance tuning and get a fresh take on CUDA code organization. Speaker: @morousg\n \nSat, Mar 16, 19:00 UTC\n\nhttps://t.co/VZqlR3QC76 https://t.co/ta6AcVj0Tg",
          "We converted each frame to a 32x64 grid where each pixel contained the object on the frame buffer so that the LLM could \"see\". \n\nThere was a bit of prompt refinement needed here to make sure that the model could interpret the grid properly.\n\nThis video shows what the grid looks… https://t.co/yVpUCHLjRt https://t.co/gAhZirIEUT",
          "Today, we are releasing Stable Video 3D, a generative model based on Stable Video Diffusion. This new model advances the field of 3D technology, delivering greatly improved quality and multi-view.\n\nThe model is available now for commercial and non-commercial use with a Stability… https://t.co/YicNGTciax https://t.co/cc5T9RRH3L",
          "2h of debugging. Whatever you say, that's counter intuitive. https://t.co/jMtr6dFcl7",
          "## nous x replicate meetup thread \n\nRepresentation Engineering an Acid Trip \nby @voooooogel https://t.co/4wGXwO2tzi",
          "The GGUF file format is a great example of the cool things that an open-source community can achieve.\n\nProps to @philpax_ and everyone else involved in the design and implementation of the format. I'm thankful and happy to see that it finds adoption in ML\n\nhttps://t.co/dRPSBUSPuN https://t.co/vERPTpRRAW",
          "reading the source code of projects using LLMs is hilarious because you can see programmers pleading with GPT 4 https://t.co/I8M0OS21jG",
          "April Fools!  \n\nThe part which isn't funny is that FFmpeg is a project written by volunteers which receives essentially no funding from VC backed Silicon Valley companies who raise tons of money off the back of FFmpeg and build their products and services using FFmpeg.",
          "tinybox with 6x Intel Arc A770 is colorful! https://t.co/sM1GwIqnMn",
          "If you were to train GPT-4, 1.8T params model, \n\nOn A100, it will take 25k A100s and take 3-5 months.\n\nOn H100, it will take 8k GPUs and take ~3 months.\n\nOn B100, it will take 2k GPUs and take ~ 3 months.\n\n- Jenson at GTC.",
          "Tenstorrent still has a long road to go, and I think aiming for LLM benchmarks and PyTorch integration is dumb. They need to be thinking on a longer timeline than this.\n\n@nvidia has moved the earth to get the interconnect bandwidths to where they are. If you told someone 10 years… https://t.co/DWIhiGyd1W",
          "A lot of the value from ChatGPT comes in mundane/mindless drudgery, not deep thinking.\n\nPeople like @GaryMarcus overlook the genuine value here:\n- installing nvidia drivers\n- sorting out messed up ruby version\n- setting up custom domain name\n\nMany such cases.",
          "Introducing Inversion: fast, reliable structured LLMs\n\nhttps://t.co/iyWUSbSbWI https://t.co/dLolpV2hYw",
          "Something that makes SWE a particularly feasible task for LLMs is that code is very verifiable (not in the crypto sense) and you get instant feedback\n\nIf your LLM writes code, you can instantly know if it's \"correct\" or not if it compiles.\n\nBut this isn't always the case, like… https://t.co/2mDr54plfL",
          "Vision behind the Apple Open project axlearn project is really intriguing 🧐 “AXLearn supports the training of models with up to hundreds of billions of parameters across thousands of accelerators on a virtual global computer” https://t.co/5OXUgmcifa",
          "Imagine being called 'former salesforce exec' instead of 'ML researcher with 170,000+ citations' https://t.co/duAIrIWPQu",
          "@nathanmllr funny enough though I regenerated the ChatGPT Classic (i.e. no python calculator available) answer a couple of times and in one of them it seems to have hallucinated a floating point error https://t.co/II0DlskVXC",
          "I was fired from OpenAI this morning.  I was the person responsible for deleting gpt35-lp-f-240108-720-joshtest-delete-or-you-will-be-fired. https://t.co/NMdMlAzmHw",
          "TIL Noam Shazeer also built out Google’s spelling correction system: https://t.co/pNgo5xUmUj",
          "🎉🎉🎉\n\nAlso, I'm hiring for an MLE/SWE! If you want to build LLMs with @cohere and are interested in developing challenging model evaluation settings + curating high-quality data, please reach out!\n\nICYMI: We also just opened our NYC office 👀 https://t.co/jRdYHWgORA",
          "The AMD tinybox is on hold until we can build and run the relevant firmware on our GPUs.\n\nThe driver is still very unstable, and when it crashes or hangs we have no way of debugging it. We have no way of dumping the state of a GPU. Apparently it isn't just the MES causing these… https://t.co/CoA5bj4VYT",
          "MLX Swift MNIST example got a little face-lift. \n\nTrain a LeNet on device, then draw and classify digits. Thanks to Rounak for the contribution https://t.co/ri9EPpXilu !\n\nGuide: https://t.co/hpHDhEFJQs \nRunning on my iPhone 14: https://t.co/dYuS0vzU1J",
          "Open offer.\n\nIf someone buys me a 8xH100 SXM machine, we will beat the 500 T/s of the Mixtral demo from @GroqInc on it in 8 weeks (in tinygrad!), or your machine back.",
          "This is similar to how I found @EricSteinb. He was just an undergrad, but he did research on his own and put a solo paper on arxiv that followed up on my work. I was impressed, so I invited him to work with me. There's a lot of talent out there with non-traditional backgrounds. https://t.co/6NLrnRybSh",
          "We'll run @xai's model on @GroqInc LPUs when it's renamed to Slartibartfast.\n\nhttps://t.co/0LMu5O3JND",
          "I explain Objective-Driven AI, with inference by energy minimization, as opposed to Auto-Regressive prediction. https://t.co/sm3n9WPeES",
          "EagleX 7B with only 1.7 Trillion tokens\nJust beat llama2 7B, on average in English evals\n\nBringing into open source research the best\n- multi-lingual model (beating even mistral) \n- english model at &lt;= 2T tokens (beating LLaMA)\n- all while being attention free linear transformer https://t.co/PzklFLiOOT",
          "&gt;cracked director of engineering recommends me this code book\n&gt;ask him if the book will help me pass leetcode FAANG interviews\n&gt;he doesn't understand\n&gt;explain him that i need to solve 4sum\n&gt;he laughs and says it's a good book\n&gt;look inside\n&gt;anatomy of a flashlight https://t.co/GP7RphsP8P",
          "🚀 𝐂𝐨𝐡𝐞𝐫𝐞 𝐄𝐦𝐛𝐞𝐝 𝐕𝟑 - 𝐢𝐧𝐭𝟖 &amp; 𝐛𝐢𝐧𝐚𝐫𝐲 𝐒𝐮𝐩𝐩𝐨𝐫𝐭🚀\n\nI'm excited to launch our native support for int8 &amp; binary embeddings for Cohere Embed V3.\n\nThey slash your vector DB cost 4x - 32x while keeping 95% - 100% of the search quality.\nhttps://t.co/uJBg6nyPvf https://t.co/3TVabwKm52",
          "No.\nIf it were the case, we would have AI systems that could teach themselves to drive a car in 20 hours of practice, like any 17 year-old.\n\nBut we still don't have fully autonomous, reliable self-driving, even though we (you) have millions of hours of *labeled* training data. https://t.co/IqsAYQHfdW",
          null
         ],
         "marker": {
          "opacity": 0.5,
          "size": 5
         },
         "mode": "markers+text",
         "name": "0_- Open-Source Firmware Development for GPUs",
         "text": [
          "",
          "",
          "",
          "",
          "",
          "",
          "",
          "",
          "",
          "",
          "",
          "",
          "",
          "",
          "",
          "",
          "",
          "",
          "",
          "",
          "",
          "",
          "",
          "",
          "",
          "",
          "",
          "",
          "",
          "",
          "",
          "",
          "",
          "",
          "",
          "",
          "",
          "",
          "",
          "",
          "",
          "",
          "0_- Open-Source Firmware Development for GPUs"
         ],
         "textfont": {
          "size": 12
         },
         "type": "scattergl",
         "x": [
          7.4660335,
          7.013484,
          6.7467694,
          6.436137,
          8.124632,
          7.7392797,
          6.755116,
          7.5821505,
          6.6736264,
          6.8534174,
          6.3803496,
          7.3954244,
          6.3531837,
          6.69173,
          6.687523,
          7.9057326,
          7.2239876,
          6.0552545,
          6.7836843,
          5.9629264,
          6.355435,
          6.9468737,
          7.036757,
          6.2106013,
          7.236963,
          6.870777,
          7.344781,
          7.0204897,
          6.3889103,
          6.6225543,
          7.0400352,
          7.099905,
          6.5650244,
          7.362802,
          6.6727796,
          7.2377753,
          7.098821,
          7.642307,
          7.4579825,
          7.4105988,
          6.9610214,
          7.7647376,
          6.980438
         ],
         "y": [
          16.646221,
          13.577151,
          13.661828,
          14.452354,
          14.958695,
          16.167126,
          13.7978325,
          14.995335,
          16.594135,
          14.049885,
          16.462626,
          15.563942,
          14.522124,
          15.188637,
          15.063711,
          16.777428,
          15.194531,
          14.874176,
          16.055439,
          14.85746,
          13.817449,
          14.15055,
          13.920774,
          15.956498,
          15.013417,
          15.775295,
          14.409996,
          15.736563,
          16.179165,
          15.8076105,
          16.55719,
          15.146789,
          14.065657,
          14.668692,
          13.763782,
          15.537574,
          14.448091,
          15.229088,
          14.500198,
          16.560143,
          14.897545,
          15.1321945,
          15.112737
         ]
        },
        {
         "hoverinfo": "text",
         "hovertext": [
          "RT @Joe_MainMixon: Part 2😈",
          "seriously now https://t.co/LZGP5tmxpG",
          "@carmguti @AdonAlternative I'll leave this masterpiece here. https://t.co/rXXwUIMhjw",
          "Deja Vu https://t.co/QEvVkoNc3t",
          "Challenge accepted! 😀 https://t.co/AY7rIdna0e",
          "@LinusEkenstam I can't tell what I can trust today. Will check back tomorrow.",
          "Bengals, OT Trent Brown agree to terms on one-year deal. (via @RapSheet) https://t.co/uPKOekunYA",
          "https://t.co/OMIeGGjYtG",
          "Further reading from @lorenzofb: https://t.co/sHFZ0rTQFE https://t.co/Ih7ujqIJ9h",
          "🔥🔥🔥 https://t.co/YlgQKRg6YI",
          "Woah @__tinygrad__ way to go.  Massive achievement\n\nhttps://t.co/ZFQnJMNq2I",
          "Only posting Zack Moss pass pro highlights as I watch his film https://t.co/5DitTH7fqF",
          "We're announcing TacticAI: an AI assistant capable of offering insights to football experts on corner kicks. ⚽\n\nDeveloped with @LFC, it can help teams sample alternative player setups to evaluate possible outcomes, and achieves state-of-the-art results. 🧵… https://t.co/Jk7NrzqXnQ https://t.co/8oVYtamGGe",
          "We're going to talk about \"Contact Balance\" with Zack Moss https://t.co/wGgepauhNb",
          "This just dropped this morning https://t.co/gkRhORXsV9",
          "@aidan_mclau Are you doing it?",
          "New Bengals DT Sheldon Rankins took us down memory lane today and pointed out some of the big sacks he's had against Cincinnati. (video via @Bengals) https://t.co/yxGxzzSAoI",
          "That explains 😅 https://t.co/yT3WWRybrn",
          "@linaeons dingboarddddddddd",
          "This is exactly my view too: https://t.co/tOx9Eqprht",
          "I’m so well prepared for this https://t.co/rUH0yzhbLs https://t.co/5i4Q1ZwFIA",
          "https://t.co/cLn56MVCcX",
          "RT @adaanahii: People are so quick to criticize vegans when we literally are only adding positivity to the world.",
          "why are you booing me.  I'm right. https://t.co/VpTQPzVluX",
          "@___frye This is literally prof eggert from ucla",
          "@krishnanrohit @AmazonKindle I stopped buying Kindle books a long time ago once I realized how weird the concept of 'ownership' is on Amazon digital",
          "it's over https://t.co/FG2I7vpXks",
          "Mark Zuckerberg emails Facebook execs\n\nJune 9, 2016 https://t.co/sonY5Bj74F",
          "RT @JoeyB: Might as well win it all while we're at it",
          "My boulder rolling Sisyphus rage game so far, what do you think? https://t.co/oMvo36st8q",
          "it's such a shame palindrome is not a palindrome",
          "the @realGeorgeHotz effect https://t.co/Estmdt3gk6",
          "many such cases https://t.co/964SoBXnVN",
          "Introducing the 01 Developer Preview.\n\nOrder or build your own today: https://t.co/ROEcj9jVPX\n\nThe 01 Light is a portable voice interface that controls your home computer. It can see your screen, use your apps, and learn new skills.\n\nThis is only the beginning for 01— the… https://t.co/plTD4NfH1b https://t.co/J5VoWlCI5i",
          "i don't want to sound cynical but do you guys think they purposefully put scenes like this in movies specifically so they can be turned into memes online https://t.co/PZrK4ZiFfk",
          null
         ],
         "marker": {
          "opacity": 0.5,
          "size": 5
         },
         "mode": "markers+text",
         "name": "1_\"Exploring the Impact of AI in Sports and Home Automation with 01 Developer Preview\"",
         "text": [
          "",
          "",
          "",
          "",
          "",
          "",
          "",
          "",
          "",
          "",
          "",
          "",
          "",
          "",
          "",
          "",
          "",
          "",
          "",
          "",
          "",
          "",
          "",
          "",
          "",
          "",
          "",
          "",
          "",
          "",
          "",
          "",
          "",
          "",
          "",
          "1_\"Exploring the Impact of AI in Sports and Home Automation with 01 Developer Preview\""
         ],
         "textfont": {
          "size": 12
         },
         "type": "scattergl",
         "x": [
          9.750971,
          9.393379,
          9.67399,
          9.138971,
          9.850856,
          8.8814125,
          10.070473,
          9.2592745,
          9.2250595,
          10.161651,
          9.833898,
          9.827557,
          9.327442,
          9.840619,
          9.235933,
          9.586234,
          9.988717,
          8.583701,
          10.030243,
          8.650108,
          10.071033,
          8.662979,
          8.938904,
          8.754911,
          9.023151,
          8.505242,
          9.416865,
          8.885483,
          9.678722,
          9.791913,
          8.936139,
          9.3537245,
          9.405134,
          8.411457,
          8.760084,
          9.340178
         ],
         "y": [
          16.973024,
          18.062422,
          17.16497,
          18.136782,
          17.691765,
          17.07201,
          17.957573,
          16.768639,
          17.11616,
          17.192366,
          17.357843,
          16.760742,
          16.53042,
          16.82533,
          16.820282,
          17.96746,
          18.078363,
          18.01839,
          17.143831,
          17.442211,
          17.49625,
          16.979332,
          17.497183,
          17.798004,
          17.34236,
          17.384726,
          17.627693,
          16.841413,
          17.417881,
          17.724651,
          18.29443,
          17.583635,
          16.97941,
          16.682468,
          17.747814,
          17.385082
         ]
        }
       ],
       "layout": {
        "annotations": [
         {
          "showarrow": false,
          "text": "D1",
          "x": 5.068487429618836,
          "y": 16.289586424827576,
          "yshift": 10
         },
         {
          "showarrow": false,
          "text": "D2",
          "x": 8.377192842960358,
          "xshift": 10,
          "y": 21.038594245910645
         }
        ],
        "height": 750,
        "shapes": [
         {
          "line": {
           "color": "#CFD8DC",
           "width": 2
          },
          "type": "line",
          "x0": 8.377192842960358,
          "x1": 8.377192842960358,
          "y0": 11.540578603744507,
          "y1": 21.038594245910645
         },
         {
          "line": {
           "color": "#9E9E9E",
           "width": 2
          },
          "type": "line",
          "x0": 5.068487429618836,
          "x1": 11.68589825630188,
          "y0": 16.289586424827576,
          "y1": 16.289586424827576
         }
        ],
        "template": {
         "data": {
          "bar": [
           {
            "error_x": {
             "color": "rgb(36,36,36)"
            },
            "error_y": {
             "color": "rgb(36,36,36)"
            },
            "marker": {
             "line": {
              "color": "white",
              "width": 0.5
             },
             "pattern": {
              "fillmode": "overlay",
              "size": 10,
              "solidity": 0.2
             }
            },
            "type": "bar"
           }
          ],
          "barpolar": [
           {
            "marker": {
             "line": {
              "color": "white",
              "width": 0.5
             },
             "pattern": {
              "fillmode": "overlay",
              "size": 10,
              "solidity": 0.2
             }
            },
            "type": "barpolar"
           }
          ],
          "carpet": [
           {
            "aaxis": {
             "endlinecolor": "rgb(36,36,36)",
             "gridcolor": "white",
             "linecolor": "white",
             "minorgridcolor": "white",
             "startlinecolor": "rgb(36,36,36)"
            },
            "baxis": {
             "endlinecolor": "rgb(36,36,36)",
             "gridcolor": "white",
             "linecolor": "white",
             "minorgridcolor": "white",
             "startlinecolor": "rgb(36,36,36)"
            },
            "type": "carpet"
           }
          ],
          "choropleth": [
           {
            "colorbar": {
             "outlinewidth": 1,
             "tickcolor": "rgb(36,36,36)",
             "ticks": "outside"
            },
            "type": "choropleth"
           }
          ],
          "contour": [
           {
            "colorbar": {
             "outlinewidth": 1,
             "tickcolor": "rgb(36,36,36)",
             "ticks": "outside"
            },
            "colorscale": [
             [
              0,
              "#440154"
             ],
             [
              0.1111111111111111,
              "#482878"
             ],
             [
              0.2222222222222222,
              "#3e4989"
             ],
             [
              0.3333333333333333,
              "#31688e"
             ],
             [
              0.4444444444444444,
              "#26828e"
             ],
             [
              0.5555555555555556,
              "#1f9e89"
             ],
             [
              0.6666666666666666,
              "#35b779"
             ],
             [
              0.7777777777777778,
              "#6ece58"
             ],
             [
              0.8888888888888888,
              "#b5de2b"
             ],
             [
              1,
              "#fde725"
             ]
            ],
            "type": "contour"
           }
          ],
          "contourcarpet": [
           {
            "colorbar": {
             "outlinewidth": 1,
             "tickcolor": "rgb(36,36,36)",
             "ticks": "outside"
            },
            "type": "contourcarpet"
           }
          ],
          "heatmap": [
           {
            "colorbar": {
             "outlinewidth": 1,
             "tickcolor": "rgb(36,36,36)",
             "ticks": "outside"
            },
            "colorscale": [
             [
              0,
              "#440154"
             ],
             [
              0.1111111111111111,
              "#482878"
             ],
             [
              0.2222222222222222,
              "#3e4989"
             ],
             [
              0.3333333333333333,
              "#31688e"
             ],
             [
              0.4444444444444444,
              "#26828e"
             ],
             [
              0.5555555555555556,
              "#1f9e89"
             ],
             [
              0.6666666666666666,
              "#35b779"
             ],
             [
              0.7777777777777778,
              "#6ece58"
             ],
             [
              0.8888888888888888,
              "#b5de2b"
             ],
             [
              1,
              "#fde725"
             ]
            ],
            "type": "heatmap"
           }
          ],
          "heatmapgl": [
           {
            "colorbar": {
             "outlinewidth": 1,
             "tickcolor": "rgb(36,36,36)",
             "ticks": "outside"
            },
            "colorscale": [
             [
              0,
              "#440154"
             ],
             [
              0.1111111111111111,
              "#482878"
             ],
             [
              0.2222222222222222,
              "#3e4989"
             ],
             [
              0.3333333333333333,
              "#31688e"
             ],
             [
              0.4444444444444444,
              "#26828e"
             ],
             [
              0.5555555555555556,
              "#1f9e89"
             ],
             [
              0.6666666666666666,
              "#35b779"
             ],
             [
              0.7777777777777778,
              "#6ece58"
             ],
             [
              0.8888888888888888,
              "#b5de2b"
             ],
             [
              1,
              "#fde725"
             ]
            ],
            "type": "heatmapgl"
           }
          ],
          "histogram": [
           {
            "marker": {
             "line": {
              "color": "white",
              "width": 0.6
             }
            },
            "type": "histogram"
           }
          ],
          "histogram2d": [
           {
            "colorbar": {
             "outlinewidth": 1,
             "tickcolor": "rgb(36,36,36)",
             "ticks": "outside"
            },
            "colorscale": [
             [
              0,
              "#440154"
             ],
             [
              0.1111111111111111,
              "#482878"
             ],
             [
              0.2222222222222222,
              "#3e4989"
             ],
             [
              0.3333333333333333,
              "#31688e"
             ],
             [
              0.4444444444444444,
              "#26828e"
             ],
             [
              0.5555555555555556,
              "#1f9e89"
             ],
             [
              0.6666666666666666,
              "#35b779"
             ],
             [
              0.7777777777777778,
              "#6ece58"
             ],
             [
              0.8888888888888888,
              "#b5de2b"
             ],
             [
              1,
              "#fde725"
             ]
            ],
            "type": "histogram2d"
           }
          ],
          "histogram2dcontour": [
           {
            "colorbar": {
             "outlinewidth": 1,
             "tickcolor": "rgb(36,36,36)",
             "ticks": "outside"
            },
            "colorscale": [
             [
              0,
              "#440154"
             ],
             [
              0.1111111111111111,
              "#482878"
             ],
             [
              0.2222222222222222,
              "#3e4989"
             ],
             [
              0.3333333333333333,
              "#31688e"
             ],
             [
              0.4444444444444444,
              "#26828e"
             ],
             [
              0.5555555555555556,
              "#1f9e89"
             ],
             [
              0.6666666666666666,
              "#35b779"
             ],
             [
              0.7777777777777778,
              "#6ece58"
             ],
             [
              0.8888888888888888,
              "#b5de2b"
             ],
             [
              1,
              "#fde725"
             ]
            ],
            "type": "histogram2dcontour"
           }
          ],
          "mesh3d": [
           {
            "colorbar": {
             "outlinewidth": 1,
             "tickcolor": "rgb(36,36,36)",
             "ticks": "outside"
            },
            "type": "mesh3d"
           }
          ],
          "parcoords": [
           {
            "line": {
             "colorbar": {
              "outlinewidth": 1,
              "tickcolor": "rgb(36,36,36)",
              "ticks": "outside"
             }
            },
            "type": "parcoords"
           }
          ],
          "pie": [
           {
            "automargin": true,
            "type": "pie"
           }
          ],
          "scatter": [
           {
            "fillpattern": {
             "fillmode": "overlay",
             "size": 10,
             "solidity": 0.2
            },
            "type": "scatter"
           }
          ],
          "scatter3d": [
           {
            "line": {
             "colorbar": {
              "outlinewidth": 1,
              "tickcolor": "rgb(36,36,36)",
              "ticks": "outside"
             }
            },
            "marker": {
             "colorbar": {
              "outlinewidth": 1,
              "tickcolor": "rgb(36,36,36)",
              "ticks": "outside"
             }
            },
            "type": "scatter3d"
           }
          ],
          "scattercarpet": [
           {
            "marker": {
             "colorbar": {
              "outlinewidth": 1,
              "tickcolor": "rgb(36,36,36)",
              "ticks": "outside"
             }
            },
            "type": "scattercarpet"
           }
          ],
          "scattergeo": [
           {
            "marker": {
             "colorbar": {
              "outlinewidth": 1,
              "tickcolor": "rgb(36,36,36)",
              "ticks": "outside"
             }
            },
            "type": "scattergeo"
           }
          ],
          "scattergl": [
           {
            "marker": {
             "colorbar": {
              "outlinewidth": 1,
              "tickcolor": "rgb(36,36,36)",
              "ticks": "outside"
             }
            },
            "type": "scattergl"
           }
          ],
          "scattermapbox": [
           {
            "marker": {
             "colorbar": {
              "outlinewidth": 1,
              "tickcolor": "rgb(36,36,36)",
              "ticks": "outside"
             }
            },
            "type": "scattermapbox"
           }
          ],
          "scatterpolar": [
           {
            "marker": {
             "colorbar": {
              "outlinewidth": 1,
              "tickcolor": "rgb(36,36,36)",
              "ticks": "outside"
             }
            },
            "type": "scatterpolar"
           }
          ],
          "scatterpolargl": [
           {
            "marker": {
             "colorbar": {
              "outlinewidth": 1,
              "tickcolor": "rgb(36,36,36)",
              "ticks": "outside"
             }
            },
            "type": "scatterpolargl"
           }
          ],
          "scatterternary": [
           {
            "marker": {
             "colorbar": {
              "outlinewidth": 1,
              "tickcolor": "rgb(36,36,36)",
              "ticks": "outside"
             }
            },
            "type": "scatterternary"
           }
          ],
          "surface": [
           {
            "colorbar": {
             "outlinewidth": 1,
             "tickcolor": "rgb(36,36,36)",
             "ticks": "outside"
            },
            "colorscale": [
             [
              0,
              "#440154"
             ],
             [
              0.1111111111111111,
              "#482878"
             ],
             [
              0.2222222222222222,
              "#3e4989"
             ],
             [
              0.3333333333333333,
              "#31688e"
             ],
             [
              0.4444444444444444,
              "#26828e"
             ],
             [
              0.5555555555555556,
              "#1f9e89"
             ],
             [
              0.6666666666666666,
              "#35b779"
             ],
             [
              0.7777777777777778,
              "#6ece58"
             ],
             [
              0.8888888888888888,
              "#b5de2b"
             ],
             [
              1,
              "#fde725"
             ]
            ],
            "type": "surface"
           }
          ],
          "table": [
           {
            "cells": {
             "fill": {
              "color": "rgb(237,237,237)"
             },
             "line": {
              "color": "white"
             }
            },
            "header": {
             "fill": {
              "color": "rgb(217,217,217)"
             },
             "line": {
              "color": "white"
             }
            },
            "type": "table"
           }
          ]
         },
         "layout": {
          "annotationdefaults": {
           "arrowhead": 0,
           "arrowwidth": 1
          },
          "autotypenumbers": "strict",
          "coloraxis": {
           "colorbar": {
            "outlinewidth": 1,
            "tickcolor": "rgb(36,36,36)",
            "ticks": "outside"
           }
          },
          "colorscale": {
           "diverging": [
            [
             0,
             "rgb(103,0,31)"
            ],
            [
             0.1,
             "rgb(178,24,43)"
            ],
            [
             0.2,
             "rgb(214,96,77)"
            ],
            [
             0.3,
             "rgb(244,165,130)"
            ],
            [
             0.4,
             "rgb(253,219,199)"
            ],
            [
             0.5,
             "rgb(247,247,247)"
            ],
            [
             0.6,
             "rgb(209,229,240)"
            ],
            [
             0.7,
             "rgb(146,197,222)"
            ],
            [
             0.8,
             "rgb(67,147,195)"
            ],
            [
             0.9,
             "rgb(33,102,172)"
            ],
            [
             1,
             "rgb(5,48,97)"
            ]
           ],
           "sequential": [
            [
             0,
             "#440154"
            ],
            [
             0.1111111111111111,
             "#482878"
            ],
            [
             0.2222222222222222,
             "#3e4989"
            ],
            [
             0.3333333333333333,
             "#31688e"
            ],
            [
             0.4444444444444444,
             "#26828e"
            ],
            [
             0.5555555555555556,
             "#1f9e89"
            ],
            [
             0.6666666666666666,
             "#35b779"
            ],
            [
             0.7777777777777778,
             "#6ece58"
            ],
            [
             0.8888888888888888,
             "#b5de2b"
            ],
            [
             1,
             "#fde725"
            ]
           ],
           "sequentialminus": [
            [
             0,
             "#440154"
            ],
            [
             0.1111111111111111,
             "#482878"
            ],
            [
             0.2222222222222222,
             "#3e4989"
            ],
            [
             0.3333333333333333,
             "#31688e"
            ],
            [
             0.4444444444444444,
             "#26828e"
            ],
            [
             0.5555555555555556,
             "#1f9e89"
            ],
            [
             0.6666666666666666,
             "#35b779"
            ],
            [
             0.7777777777777778,
             "#6ece58"
            ],
            [
             0.8888888888888888,
             "#b5de2b"
            ],
            [
             1,
             "#fde725"
            ]
           ]
          },
          "colorway": [
           "#1F77B4",
           "#FF7F0E",
           "#2CA02C",
           "#D62728",
           "#9467BD",
           "#8C564B",
           "#E377C2",
           "#7F7F7F",
           "#BCBD22",
           "#17BECF"
          ],
          "font": {
           "color": "rgb(36,36,36)"
          },
          "geo": {
           "bgcolor": "white",
           "lakecolor": "white",
           "landcolor": "white",
           "showlakes": true,
           "showland": true,
           "subunitcolor": "white"
          },
          "hoverlabel": {
           "align": "left"
          },
          "hovermode": "closest",
          "mapbox": {
           "style": "light"
          },
          "paper_bgcolor": "white",
          "plot_bgcolor": "white",
          "polar": {
           "angularaxis": {
            "gridcolor": "rgb(232,232,232)",
            "linecolor": "rgb(36,36,36)",
            "showgrid": false,
            "showline": true,
            "ticks": "outside"
           },
           "bgcolor": "white",
           "radialaxis": {
            "gridcolor": "rgb(232,232,232)",
            "linecolor": "rgb(36,36,36)",
            "showgrid": false,
            "showline": true,
            "ticks": "outside"
           }
          },
          "scene": {
           "xaxis": {
            "backgroundcolor": "white",
            "gridcolor": "rgb(232,232,232)",
            "gridwidth": 2,
            "linecolor": "rgb(36,36,36)",
            "showbackground": true,
            "showgrid": false,
            "showline": true,
            "ticks": "outside",
            "zeroline": false,
            "zerolinecolor": "rgb(36,36,36)"
           },
           "yaxis": {
            "backgroundcolor": "white",
            "gridcolor": "rgb(232,232,232)",
            "gridwidth": 2,
            "linecolor": "rgb(36,36,36)",
            "showbackground": true,
            "showgrid": false,
            "showline": true,
            "ticks": "outside",
            "zeroline": false,
            "zerolinecolor": "rgb(36,36,36)"
           },
           "zaxis": {
            "backgroundcolor": "white",
            "gridcolor": "rgb(232,232,232)",
            "gridwidth": 2,
            "linecolor": "rgb(36,36,36)",
            "showbackground": true,
            "showgrid": false,
            "showline": true,
            "ticks": "outside",
            "zeroline": false,
            "zerolinecolor": "rgb(36,36,36)"
           }
          },
          "shapedefaults": {
           "fillcolor": "black",
           "line": {
            "width": 0
           },
           "opacity": 0.3
          },
          "ternary": {
           "aaxis": {
            "gridcolor": "rgb(232,232,232)",
            "linecolor": "rgb(36,36,36)",
            "showgrid": false,
            "showline": true,
            "ticks": "outside"
           },
           "baxis": {
            "gridcolor": "rgb(232,232,232)",
            "linecolor": "rgb(36,36,36)",
            "showgrid": false,
            "showline": true,
            "ticks": "outside"
           },
           "bgcolor": "white",
           "caxis": {
            "gridcolor": "rgb(232,232,232)",
            "linecolor": "rgb(36,36,36)",
            "showgrid": false,
            "showline": true,
            "ticks": "outside"
           }
          },
          "title": {
           "x": 0.05
          },
          "xaxis": {
           "automargin": true,
           "gridcolor": "rgb(232,232,232)",
           "linecolor": "rgb(36,36,36)",
           "showgrid": false,
           "showline": true,
           "ticks": "outside",
           "title": {
            "standoff": 15
           },
           "zeroline": false,
           "zerolinecolor": "rgb(36,36,36)"
          },
          "yaxis": {
           "automargin": true,
           "gridcolor": "rgb(232,232,232)",
           "linecolor": "rgb(36,36,36)",
           "showgrid": false,
           "showline": true,
           "ticks": "outside",
           "title": {
            "standoff": 15
           },
           "zeroline": false,
           "zerolinecolor": "rgb(36,36,36)"
          }
         }
        },
        "title": {
         "font": {
          "color": "Black",
          "size": 22
         },
         "text": "<b>Documents and Topics</b>",
         "x": 0.5,
         "xanchor": "center",
         "yanchor": "top"
        },
        "width": 1200,
        "xaxis": {
         "visible": false
        },
        "yaxis": {
         "visible": false
        }
       }
      },
      "text/html": [
       "<div>                        <script type=\"text/javascript\">window.PlotlyConfig = {MathJaxConfig: 'local'};</script>\n",
       "        <script charset=\"utf-8\" src=\"https://cdn.plot.ly/plotly-2.31.1.min.js\"></script>                <div id=\"5bbe0fc3-a5a1-40cf-93b8-5827e0f7ef16\" class=\"plotly-graph-div\" style=\"height:750px; width:1200px;\"></div>            <script type=\"text/javascript\">                                    window.PLOTLYENV=window.PLOTLYENV || {};                                    if (document.getElementById(\"5bbe0fc3-a5a1-40cf-93b8-5827e0f7ef16\")) {                    Plotly.newPlot(                        \"5bbe0fc3-a5a1-40cf-93b8-5827e0f7ef16\",                        [{\"hoverinfo\":\"text\",\"hovertext\":[\"🤯 crazy exchange on @modal_labs slack between @cognition_labs 's Devin &amp; modal's support team https:\\u002f\\u002ft.co\\u002fGZ6c5uaO5V\",\"if the 13-year and 17-year cicadas are both emerging this summer, a double emergence that only occurs every ~200yrs, and both will concentrate in Illinois, where more than 13% of US corn is grown, should we be shorting corn futures yes or no\",\"@LowLevelTweets oh shit forgot the sun uses internet\",\"if i was on v*rcel i would have gotten a 50k bill today\",\"I think I speak for everyone here when I say: 314 billion parameters what the hell\",\"First photo is scatter plot with a strong correlation between two variables that obviously should correlate (not to mention it is about as bivariate normal as you would see in nature). The next three are some of the replies… https:\\u002f\\u002ft.co\\u002fSXLf3rm5Do\",\"The car was invented in 1886 but horses weren’t replaced as a means for transportation until 1920’s for early adopter regions and 1950’s everywhere.\\n\\nTransformative technology doesn’t appear everywhere immediately. The future is not evenly distributed and not easily distributed.\",\"RT @itsandrewgao: 2nd out of 79 teams and 300+ hackers at the @scale_AI hackathon! Shoutout to my teammates @akapoor1201 @VidithBalasa @Ale…\",\"The FCC just changed the broadband internet minimum requirement from 25mbps to 100mbps https:\\u002f\\u002ft.co\\u002ftyEQax9rOQ\",\"At Berkeley, we drink real coffee. 6 shots of straight espresso, every morning (minimum).\\n- 1x speed, teleoperated from 6,965 miles away. \\n- 87ms photon-to-photon latency.\\n- Unprecedented dexterity.\\nHow did we do it? We lay out our unique technical approaches below and what… https:\\u002f\\u002ft.co\\u002flG9tawOBVQ https:\\u002f\\u002ft.co\\u002fAi3VL6aIJk\",\"here’s a fun fact: almost all modern computer systems depend on a single time zone database that gets updated when local laws change\\n\\nit’s maintained by two people https:\\u002f\\u002ft.co\\u002fNBWjgot8JM\",\"@cb_doge Blindsight is the next @Neuralink product after Telepathy\",\"Very nice to see Grok go open-source &amp; open-weights: https:\\u002f\\u002ft.co\\u002fRTlvQarPzy\",\"my wife bought a lamp that needs our wifi password\\n\\nthe future blows\",\"today I set up vtuber software and a model all open source in like an hour. the renderer was on godot and the facial tracking was some random python script I found online. it actually works quite well and I will be hacking with it more\",\"AI to read your mind is getting a LOT better.\\n\\nJust released: #MindEye2 is leagues ahead of previous AI systems\\n\\n(brain waves -&gt; CLIP space -&gt; pixels) https:\\u002f\\u002ft.co\\u002fJTSrJfh2RF\",\"@neuralink Long-term, it is possible to shunt the signals from the brain motor cortex past the damaged part of the spine to enable people to walk again and use their arms normally\",\"Open-source robot arm for about $200. It uses five Dynamixel servo motors and weighs slightly over 100g (without the base). The design for a leader arm is included as well so that you can teleoperate it effectively. (Video is at 1x speed)\\nhttps:\\u002f\\u002ft.co\\u002f2J1aS6IToF https:\\u002f\\u002ft.co\\u002fAtZK8C7c9z\",\"xz backdoor code shipped with a good ol' LGTM https:\\u002f\\u002ft.co\\u002fWlVAooN7Cb\",\"@samschmitz Compare watt hour measurements from microprocessors whose electric connectivity or lack thereof is unknown\\n\\nThat's the resource. Lol\\n\\nOh...Linemen changed which Substation was feeding 462 of the 2,156 meters fed by this Distribution for 173.35 of the 8,760 hours last year?\\n\\nWe… https:\\u002f\\u002ft.co\\u002fMafLGdsEh7\",\"Only in #SanFrancisco does this ad make sense on a bullock at the train station.  A key rule of advertising is to know your customer.  Nailed it.  I'm thinking, \\\"yes, indeed, I do want to save $20M on my next H100 bill\\\". https:\\u002f\\u002ft.co\\u002fAPkbMAYz85\",\"We can think, even if our language abilities are destroyed by a stroke.\\nLanguage is a way to express thoughts, but thoughts, memories, and reasoning exist without language.\\n\\nFavorite quote from this MIT piece: \\\"This language system seems to be distinct from regions that are… https:\\u002f\\u002ft.co\\u002f6TAVKGtPAP https:\\u002f\\u002ft.co\\u002fLX4L1MAn4Y\",\"@elonmusk @xai ░W░E░I░G░H░T░S░I░N░B░I░O░\",\"I just hit 50k req\\u002fsec on a $25\\u002fmo VM. https:\\u002f\\u002ft.co\\u002fED5B8YKn6y\",\"Is anyone able to track Jia Tan’s (xz backdoor person) real identity? This guy is a menace to society.\",null],\"marker\":{\"color\":\"#CFD8DC\",\"opacity\":0.5,\"size\":5},\"mode\":\"markers+text\",\"name\":\"other\",\"showlegend\":false,\"x\":[7.336881,6.5699134,7.6986756,8.140243,7.8931403,6.5083485,8.654214,7.5240145,7.885739,8.207318,7.072085,8.583103,6.1603975,7.773062,6.317928,8.565897,8.694534,8.241678,9.635758,7.079407,8.164407,8.647582,8.7478895,7.8418913,9.580633,7.90099],\"y\":[16.283909,17.19205,17.534658,18.105211,16.692139,17.10225,16.282816,15.935648,17.957682,15.891165,17.081125,15.470342,14.968243,17.346167,15.276451,15.4679365,15.244956,16.044731,16.147213,17.033436,18.000818,15.133534,16.44845,18.018925,16.232307,16.515686],\"type\":\"scattergl\"},{\"hoverinfo\":\"text\",\"hovertext\":[\"average C bug: buried deep in a long 200 line function you forgot to unlink an element from a linked list before freeing it\\n\\naverage C++ bug: you wrote “a = b;” but unbeknownst to you “a” has = overloaded and the code for that makes subtle assumptions that are false in your case\",\"Bitcoin is a bounty for SHA-256\",\"No need to hire me, just open source the 7900XTX firmware+docs and remove the signature check. We'd treat it like bring up for our own chip, get builds in CI, HITL testing, fuzzing, etc...\\n\\nDeadline, end of the week? Otherwise I'm not spending more time thinking about this. https:\\u002f\\u002ft.co\\u002fx8XVy6aM4B\",\"How to write CUDA on AMD. https:\\u002f\\u002ft.co\\u002fCMQRMwkqgn\",\"I think our most crucial finding is that although humans think far ahead while speaking (especially while doing complex reasoning problems) it turns out that transformer language models.... don't seem to do that.\\n\\nthey just predict the next token. https:\\u002f\\u002ft.co\\u002f0mNUYAJ3PU\",\"Update I replaced (X\\u002fY) with X*(1\\u002fY) and now it passes timing check. \\n\\nI learned this trick from some girl from MIT at my last job lol. Everyone is blown away with my skills. \\n\\nThere is no reason why it’s inherently faster just synthesis tools optimize it better. https:\\u002f\\u002ft.co\\u002fVcduwI76iZ\",\"Ahh, with the founder of Groq...how about a $10k wager?\\n\\nWe keep the machine if we succeed. You get the machine back and $10k if we don't deliver open source 500+ T\\u002fs mixtral within 8 weeks. https:\\u002f\\u002ft.co\\u002fVFm1wEVDgm\",\"I watched @ylecun episode on @lexfridman and I think his bigger point is we should use a different architecture to actually make AI understand concepts\\n\\nInstead of just autocompleting word tokens like in LLMs or pixels\\u002fpatches in image\\u002fvideo gen\\n\\nHe wants an AI to actually… https:\\u002f\\u002ft.co\\u002fOArpAOMnrh https:\\u002f\\u002ft.co\\u002f7scsRvFIzm\",\"A nice example of how LLMs use statistics (a common riddle) and not understanding (what the question actually means). https:\\u002f\\u002ft.co\\u002f5Dtq60yxgX\",\"We are putting resources into Intel now. multiGPU training worked out of the box, and haven't seen a lick of driver instability. The A770 card is currently slow though, we need to add XMX support ($400 bounty added) https:\\u002f\\u002ft.co\\u002fGPhGD4kgnT\",\"My daughter asked today why it is impossible to divide by zero. \\n\\nThe analogy with dividing apples for people doesn’t work anymore 😂\\n\\nDo you know why, without googling?\",\"Researcher in deep-learning adjusting the model's architecture to beat the benchmarks. https:\\u002f\\u002ft.co\\u002flFHvqb2Usp\",\"CUDA-MODE 10: Build a production ready CUDA library\\n\\nDiscover solutions for fast prototyping, performance tuning and get a fresh take on CUDA code organization. Speaker: @morousg\\n \\nSat, Mar 16, 19:00 UTC\\n\\nhttps:\\u002f\\u002ft.co\\u002fVZqlR3QC76 https:\\u002f\\u002ft.co\\u002fta6AcVj0Tg\",\"We converted each frame to a 32x64 grid where each pixel contained the object on the frame buffer so that the LLM could \\\"see\\\". \\n\\nThere was a bit of prompt refinement needed here to make sure that the model could interpret the grid properly.\\n\\nThis video shows what the grid looks… https:\\u002f\\u002ft.co\\u002fyVpUCHLjRt https:\\u002f\\u002ft.co\\u002fgAhZirIEUT\",\"Today, we are releasing Stable Video 3D, a generative model based on Stable Video Diffusion. This new model advances the field of 3D technology, delivering greatly improved quality and multi-view.\\n\\nThe model is available now for commercial and non-commercial use with a Stability… https:\\u002f\\u002ft.co\\u002fYicNGTciax https:\\u002f\\u002ft.co\\u002fcc5T9RRH3L\",\"2h of debugging. Whatever you say, that's counter intuitive. https:\\u002f\\u002ft.co\\u002fjMtr6dFcl7\",\"## nous x replicate meetup thread \\n\\nRepresentation Engineering an Acid Trip \\nby @voooooogel https:\\u002f\\u002ft.co\\u002f4wGXwO2tzi\",\"The GGUF file format is a great example of the cool things that an open-source community can achieve.\\n\\nProps to @philpax_ and everyone else involved in the design and implementation of the format. I'm thankful and happy to see that it finds adoption in ML\\n\\nhttps:\\u002f\\u002ft.co\\u002fdRPSBUSPuN https:\\u002f\\u002ft.co\\u002fvERPTpRRAW\",\"reading the source code of projects using LLMs is hilarious because you can see programmers pleading with GPT 4 https:\\u002f\\u002ft.co\\u002fI8M0OS21jG\",\"April Fools!  \\n\\nThe part which isn't funny is that FFmpeg is a project written by volunteers which receives essentially no funding from VC backed Silicon Valley companies who raise tons of money off the back of FFmpeg and build their products and services using FFmpeg.\",\"tinybox with 6x Intel Arc A770 is colorful! https:\\u002f\\u002ft.co\\u002fsM1GwIqnMn\",\"If you were to train GPT-4, 1.8T params model, \\n\\nOn A100, it will take 25k A100s and take 3-5 months.\\n\\nOn H100, it will take 8k GPUs and take ~3 months.\\n\\nOn B100, it will take 2k GPUs and take ~ 3 months.\\n\\n- Jenson at GTC.\",\"Tenstorrent still has a long road to go, and I think aiming for LLM benchmarks and PyTorch integration is dumb. They need to be thinking on a longer timeline than this.\\n\\n@nvidia has moved the earth to get the interconnect bandwidths to where they are. If you told someone 10 years… https:\\u002f\\u002ft.co\\u002fDWIhiGyd1W\",\"A lot of the value from ChatGPT comes in mundane\\u002fmindless drudgery, not deep thinking.\\n\\nPeople like @GaryMarcus overlook the genuine value here:\\n- installing nvidia drivers\\n- sorting out messed up ruby version\\n- setting up custom domain name\\n\\nMany such cases.\",\"Introducing Inversion: fast, reliable structured LLMs\\n\\nhttps:\\u002f\\u002ft.co\\u002fiyWUSbSbWI https:\\u002f\\u002ft.co\\u002fdLolpV2hYw\",\"Something that makes SWE a particularly feasible task for LLMs is that code is very verifiable (not in the crypto sense) and you get instant feedback\\n\\nIf your LLM writes code, you can instantly know if it's \\\"correct\\\" or not if it compiles.\\n\\nBut this isn't always the case, like… https:\\u002f\\u002ft.co\\u002f2mDr54plfL\",\"Vision behind the Apple Open project axlearn project is really intriguing 🧐 “AXLearn supports the training of models with up to hundreds of billions of parameters across thousands of accelerators on a virtual global computer” https:\\u002f\\u002ft.co\\u002f5OXUgmcifa\",\"Imagine being called 'former salesforce exec' instead of 'ML researcher with 170,000+ citations' https:\\u002f\\u002ft.co\\u002fduAIrIWPQu\",\"@nathanmllr funny enough though I regenerated the ChatGPT Classic (i.e. no python calculator available) answer a couple of times and in one of them it seems to have hallucinated a floating point error https:\\u002f\\u002ft.co\\u002fII0DlskVXC\",\"I was fired from OpenAI this morning.  I was the person responsible for deleting gpt35-lp-f-240108-720-joshtest-delete-or-you-will-be-fired. https:\\u002f\\u002ft.co\\u002fNMdMlAzmHw\",\"TIL Noam Shazeer also built out Google’s spelling correction system: https:\\u002f\\u002ft.co\\u002fpNgo5xUmUj\",\"🎉🎉🎉\\n\\nAlso, I'm hiring for an MLE\\u002fSWE! If you want to build LLMs with @cohere and are interested in developing challenging model evaluation settings + curating high-quality data, please reach out!\\n\\nICYMI: We also just opened our NYC office 👀 https:\\u002f\\u002ft.co\\u002fjRdYHWgORA\",\"The AMD tinybox is on hold until we can build and run the relevant firmware on our GPUs.\\n\\nThe driver is still very unstable, and when it crashes or hangs we have no way of debugging it. We have no way of dumping the state of a GPU. Apparently it isn't just the MES causing these… https:\\u002f\\u002ft.co\\u002fCoA5bj4VYT\",\"MLX Swift MNIST example got a little face-lift. \\n\\nTrain a LeNet on device, then draw and classify digits. Thanks to Rounak for the contribution https:\\u002f\\u002ft.co\\u002fri9EPpXilu !\\n\\nGuide: https:\\u002f\\u002ft.co\\u002fhpHDhEFJQs \\nRunning on my iPhone 14: https:\\u002f\\u002ft.co\\u002fdYuS0vzU1J\",\"Open offer.\\n\\nIf someone buys me a 8xH100 SXM machine, we will beat the 500 T\\u002fs of the Mixtral demo from @GroqInc on it in 8 weeks (in tinygrad!), or your machine back.\",\"This is similar to how I found @EricSteinb. He was just an undergrad, but he did research on his own and put a solo paper on arxiv that followed up on my work. I was impressed, so I invited him to work with me. There's a lot of talent out there with non-traditional backgrounds. https:\\u002f\\u002ft.co\\u002f6NLrnRybSh\",\"We'll run @xai's model on @GroqInc LPUs when it's renamed to Slartibartfast.\\n\\nhttps:\\u002f\\u002ft.co\\u002f0LMu5O3JND\",\"I explain Objective-Driven AI, with inference by energy minimization, as opposed to Auto-Regressive prediction. https:\\u002f\\u002ft.co\\u002fsm3n9WPeES\",\"EagleX 7B with only 1.7 Trillion tokens\\nJust beat llama2 7B, on average in English evals\\n\\nBringing into open source research the best\\n- multi-lingual model (beating even mistral) \\n- english model at &lt;= 2T tokens (beating LLaMA)\\n- all while being attention free linear transformer https:\\u002f\\u002ft.co\\u002fPzklFLiOOT\",\"&gt;cracked director of engineering recommends me this code book\\n&gt;ask him if the book will help me pass leetcode FAANG interviews\\n&gt;he doesn't understand\\n&gt;explain him that i need to solve 4sum\\n&gt;he laughs and says it's a good book\\n&gt;look inside\\n&gt;anatomy of a flashlight https:\\u002f\\u002ft.co\\u002fGP7RphsP8P\",\"🚀 𝐂𝐨𝐡𝐞𝐫𝐞 𝐄𝐦𝐛𝐞𝐝 𝐕𝟑 - 𝐢𝐧𝐭𝟖 &amp; 𝐛𝐢𝐧𝐚𝐫𝐲 𝐒𝐮𝐩𝐩𝐨𝐫𝐭🚀\\n\\nI'm excited to launch our native support for int8 &amp; binary embeddings for Cohere Embed V3.\\n\\nThey slash your vector DB cost 4x - 32x while keeping 95% - 100% of the search quality.\\nhttps:\\u002f\\u002ft.co\\u002fuJBg6nyPvf https:\\u002f\\u002ft.co\\u002f3TVabwKm52\",\"No.\\nIf it were the case, we would have AI systems that could teach themselves to drive a car in 20 hours of practice, like any 17 year-old.\\n\\nBut we still don't have fully autonomous, reliable self-driving, even though we (you) have millions of hours of *labeled* training data. https:\\u002f\\u002ft.co\\u002fIqsAYQHfdW\",null],\"marker\":{\"opacity\":0.5,\"size\":5},\"mode\":\"markers+text\",\"name\":\"0_- Open-Source Firmware Development for GPUs\",\"text\":[\"\",\"\",\"\",\"\",\"\",\"\",\"\",\"\",\"\",\"\",\"\",\"\",\"\",\"\",\"\",\"\",\"\",\"\",\"\",\"\",\"\",\"\",\"\",\"\",\"\",\"\",\"\",\"\",\"\",\"\",\"\",\"\",\"\",\"\",\"\",\"\",\"\",\"\",\"\",\"\",\"\",\"\",\"0_- Open-Source Firmware Development for GPUs\"],\"textfont\":{\"size\":12},\"x\":[7.4660335,7.013484,6.7467694,6.436137,8.124632,7.7392797,6.755116,7.5821505,6.6736264,6.8534174,6.3803496,7.3954244,6.3531837,6.69173,6.687523,7.9057326,7.2239876,6.0552545,6.7836843,5.9629264,6.355435,6.9468737,7.036757,6.2106013,7.236963,6.870777,7.344781,7.0204897,6.3889103,6.6225543,7.0400352,7.099905,6.5650244,7.362802,6.6727796,7.2377753,7.098821,7.642307,7.4579825,7.4105988,6.9610214,7.7647376,6.980438],\"y\":[16.646221,13.577151,13.661828,14.452354,14.958695,16.167126,13.7978325,14.995335,16.594135,14.049885,16.462626,15.563942,14.522124,15.188637,15.063711,16.777428,15.194531,14.874176,16.055439,14.85746,13.817449,14.15055,13.920774,15.956498,15.013417,15.775295,14.409996,15.736563,16.179165,15.8076105,16.55719,15.146789,14.065657,14.668692,13.763782,15.537574,14.448091,15.229088,14.500198,16.560143,14.897545,15.1321945,15.112737],\"type\":\"scattergl\"},{\"hoverinfo\":\"text\",\"hovertext\":[\"RT @Joe_MainMixon: Part 2😈\",\"seriously now https:\\u002f\\u002ft.co\\u002fLZGP5tmxpG\",\"@carmguti @AdonAlternative I'll leave this masterpiece here. https:\\u002f\\u002ft.co\\u002frXXwUIMhjw\",\"Deja Vu https:\\u002f\\u002ft.co\\u002fQEvVkoNc3t\",\"Challenge accepted! 😀 https:\\u002f\\u002ft.co\\u002fAY7rIdna0e\",\"@LinusEkenstam I can't tell what I can trust today. Will check back tomorrow.\",\"Bengals, OT Trent Brown agree to terms on one-year deal. (via @RapSheet) https:\\u002f\\u002ft.co\\u002fuPKOekunYA\",\"https:\\u002f\\u002ft.co\\u002fOMIeGGjYtG\",\"Further reading from @lorenzofb: https:\\u002f\\u002ft.co\\u002fsHFZ0rTQFE https:\\u002f\\u002ft.co\\u002fIh7ujqIJ9h\",\"🔥🔥🔥 https:\\u002f\\u002ft.co\\u002fYlgQKRg6YI\",\"Woah @__tinygrad__ way to go.  Massive achievement\\n\\nhttps:\\u002f\\u002ft.co\\u002fZFQnJMNq2I\",\"Only posting Zack Moss pass pro highlights as I watch his film https:\\u002f\\u002ft.co\\u002f5DitTH7fqF\",\"We're announcing TacticAI: an AI assistant capable of offering insights to football experts on corner kicks. ⚽\\n\\nDeveloped with @LFC, it can help teams sample alternative player setups to evaluate possible outcomes, and achieves state-of-the-art results. 🧵… https:\\u002f\\u002ft.co\\u002fJk7NrzqXnQ https:\\u002f\\u002ft.co\\u002f8oVYtamGGe\",\"We're going to talk about \\\"Contact Balance\\\" with Zack Moss https:\\u002f\\u002ft.co\\u002fwGgepauhNb\",\"This just dropped this morning https:\\u002f\\u002ft.co\\u002fgkRhORXsV9\",\"@aidan_mclau Are you doing it?\",\"New Bengals DT Sheldon Rankins took us down memory lane today and pointed out some of the big sacks he's had against Cincinnati. (video via @Bengals) https:\\u002f\\u002ft.co\\u002fyxGxzzSAoI\",\"That explains 😅 https:\\u002f\\u002ft.co\\u002fyT3WWRybrn\",\"@linaeons dingboarddddddddd\",\"This is exactly my view too: https:\\u002f\\u002ft.co\\u002ftOx9Eqprht\",\"I’m so well prepared for this https:\\u002f\\u002ft.co\\u002frUH0yzhbLs https:\\u002f\\u002ft.co\\u002f5i4Q1ZwFIA\",\"https:\\u002f\\u002ft.co\\u002fcLn56MVCcX\",\"RT @adaanahii: People are so quick to criticize vegans when we literally are only adding positivity to the world.\",\"why are you booing me.  I'm right. https:\\u002f\\u002ft.co\\u002fVpTQPzVluX\",\"@___frye This is literally prof eggert from ucla\",\"@krishnanrohit @AmazonKindle I stopped buying Kindle books a long time ago once I realized how weird the concept of 'ownership' is on Amazon digital\",\"it's over https:\\u002f\\u002ft.co\\u002fFG2I7vpXks\",\"Mark Zuckerberg emails Facebook execs\\n\\nJune 9, 2016 https:\\u002f\\u002ft.co\\u002fsonY5Bj74F\",\"RT @JoeyB: Might as well win it all while we're at it\",\"My boulder rolling Sisyphus rage game so far, what do you think? https:\\u002f\\u002ft.co\\u002foMvo36st8q\",\"it's such a shame palindrome is not a palindrome\",\"the @realGeorgeHotz effect https:\\u002f\\u002ft.co\\u002fEstmdt3gk6\",\"many such cases https:\\u002f\\u002ft.co\\u002f964SoBXnVN\",\"Introducing the 01 Developer Preview.\\n\\nOrder or build your own today: https:\\u002f\\u002ft.co\\u002fROEcj9jVPX\\n\\nThe 01 Light is a portable voice interface that controls your home computer. It can see your screen, use your apps, and learn new skills.\\n\\nThis is only the beginning for 01— the… https:\\u002f\\u002ft.co\\u002fplTD4NfH1b https:\\u002f\\u002ft.co\\u002fJ5VoWlCI5i\",\"i don't want to sound cynical but do you guys think they purposefully put scenes like this in movies specifically so they can be turned into memes online https:\\u002f\\u002ft.co\\u002fPZrK4ZiFfk\",null],\"marker\":{\"opacity\":0.5,\"size\":5},\"mode\":\"markers+text\",\"name\":\"1_\\\"Exploring the Impact of AI in Sports and Home Automation with 01 Developer Preview\\\"\",\"text\":[\"\",\"\",\"\",\"\",\"\",\"\",\"\",\"\",\"\",\"\",\"\",\"\",\"\",\"\",\"\",\"\",\"\",\"\",\"\",\"\",\"\",\"\",\"\",\"\",\"\",\"\",\"\",\"\",\"\",\"\",\"\",\"\",\"\",\"\",\"\",\"1_\\\"Exploring the Impact of AI in Sports and Home Automation with 01 Developer Preview\\\"\"],\"textfont\":{\"size\":12},\"x\":[9.750971,9.393379,9.67399,9.138971,9.850856,8.8814125,10.070473,9.2592745,9.2250595,10.161651,9.833898,9.827557,9.327442,9.840619,9.235933,9.586234,9.988717,8.583701,10.030243,8.650108,10.071033,8.662979,8.938904,8.754911,9.023151,8.505242,9.416865,8.885483,9.678722,9.791913,8.936139,9.3537245,9.405134,8.411457,8.760084,9.340178],\"y\":[16.973024,18.062422,17.16497,18.136782,17.691765,17.07201,17.957573,16.768639,17.11616,17.192366,17.357843,16.760742,16.53042,16.82533,16.820282,17.96746,18.078363,18.01839,17.143831,17.442211,17.49625,16.979332,17.497183,17.798004,17.34236,17.384726,17.627693,16.841413,17.417881,17.724651,18.29443,17.583635,16.97941,16.682468,17.747814,17.385082],\"type\":\"scattergl\"}],                        {\"template\":{\"data\":{\"barpolar\":[{\"marker\":{\"line\":{\"color\":\"white\",\"width\":0.5},\"pattern\":{\"fillmode\":\"overlay\",\"size\":10,\"solidity\":0.2}},\"type\":\"barpolar\"}],\"bar\":[{\"error_x\":{\"color\":\"rgb(36,36,36)\"},\"error_y\":{\"color\":\"rgb(36,36,36)\"},\"marker\":{\"line\":{\"color\":\"white\",\"width\":0.5},\"pattern\":{\"fillmode\":\"overlay\",\"size\":10,\"solidity\":0.2}},\"type\":\"bar\"}],\"carpet\":[{\"aaxis\":{\"endlinecolor\":\"rgb(36,36,36)\",\"gridcolor\":\"white\",\"linecolor\":\"white\",\"minorgridcolor\":\"white\",\"startlinecolor\":\"rgb(36,36,36)\"},\"baxis\":{\"endlinecolor\":\"rgb(36,36,36)\",\"gridcolor\":\"white\",\"linecolor\":\"white\",\"minorgridcolor\":\"white\",\"startlinecolor\":\"rgb(36,36,36)\"},\"type\":\"carpet\"}],\"choropleth\":[{\"colorbar\":{\"outlinewidth\":1,\"tickcolor\":\"rgb(36,36,36)\",\"ticks\":\"outside\"},\"type\":\"choropleth\"}],\"contourcarpet\":[{\"colorbar\":{\"outlinewidth\":1,\"tickcolor\":\"rgb(36,36,36)\",\"ticks\":\"outside\"},\"type\":\"contourcarpet\"}],\"contour\":[{\"colorbar\":{\"outlinewidth\":1,\"tickcolor\":\"rgb(36,36,36)\",\"ticks\":\"outside\"},\"colorscale\":[[0.0,\"#440154\"],[0.1111111111111111,\"#482878\"],[0.2222222222222222,\"#3e4989\"],[0.3333333333333333,\"#31688e\"],[0.4444444444444444,\"#26828e\"],[0.5555555555555556,\"#1f9e89\"],[0.6666666666666666,\"#35b779\"],[0.7777777777777778,\"#6ece58\"],[0.8888888888888888,\"#b5de2b\"],[1.0,\"#fde725\"]],\"type\":\"contour\"}],\"heatmapgl\":[{\"colorbar\":{\"outlinewidth\":1,\"tickcolor\":\"rgb(36,36,36)\",\"ticks\":\"outside\"},\"colorscale\":[[0.0,\"#440154\"],[0.1111111111111111,\"#482878\"],[0.2222222222222222,\"#3e4989\"],[0.3333333333333333,\"#31688e\"],[0.4444444444444444,\"#26828e\"],[0.5555555555555556,\"#1f9e89\"],[0.6666666666666666,\"#35b779\"],[0.7777777777777778,\"#6ece58\"],[0.8888888888888888,\"#b5de2b\"],[1.0,\"#fde725\"]],\"type\":\"heatmapgl\"}],\"heatmap\":[{\"colorbar\":{\"outlinewidth\":1,\"tickcolor\":\"rgb(36,36,36)\",\"ticks\":\"outside\"},\"colorscale\":[[0.0,\"#440154\"],[0.1111111111111111,\"#482878\"],[0.2222222222222222,\"#3e4989\"],[0.3333333333333333,\"#31688e\"],[0.4444444444444444,\"#26828e\"],[0.5555555555555556,\"#1f9e89\"],[0.6666666666666666,\"#35b779\"],[0.7777777777777778,\"#6ece58\"],[0.8888888888888888,\"#b5de2b\"],[1.0,\"#fde725\"]],\"type\":\"heatmap\"}],\"histogram2dcontour\":[{\"colorbar\":{\"outlinewidth\":1,\"tickcolor\":\"rgb(36,36,36)\",\"ticks\":\"outside\"},\"colorscale\":[[0.0,\"#440154\"],[0.1111111111111111,\"#482878\"],[0.2222222222222222,\"#3e4989\"],[0.3333333333333333,\"#31688e\"],[0.4444444444444444,\"#26828e\"],[0.5555555555555556,\"#1f9e89\"],[0.6666666666666666,\"#35b779\"],[0.7777777777777778,\"#6ece58\"],[0.8888888888888888,\"#b5de2b\"],[1.0,\"#fde725\"]],\"type\":\"histogram2dcontour\"}],\"histogram2d\":[{\"colorbar\":{\"outlinewidth\":1,\"tickcolor\":\"rgb(36,36,36)\",\"ticks\":\"outside\"},\"colorscale\":[[0.0,\"#440154\"],[0.1111111111111111,\"#482878\"],[0.2222222222222222,\"#3e4989\"],[0.3333333333333333,\"#31688e\"],[0.4444444444444444,\"#26828e\"],[0.5555555555555556,\"#1f9e89\"],[0.6666666666666666,\"#35b779\"],[0.7777777777777778,\"#6ece58\"],[0.8888888888888888,\"#b5de2b\"],[1.0,\"#fde725\"]],\"type\":\"histogram2d\"}],\"histogram\":[{\"marker\":{\"line\":{\"color\":\"white\",\"width\":0.6}},\"type\":\"histogram\"}],\"mesh3d\":[{\"colorbar\":{\"outlinewidth\":1,\"tickcolor\":\"rgb(36,36,36)\",\"ticks\":\"outside\"},\"type\":\"mesh3d\"}],\"parcoords\":[{\"line\":{\"colorbar\":{\"outlinewidth\":1,\"tickcolor\":\"rgb(36,36,36)\",\"ticks\":\"outside\"}},\"type\":\"parcoords\"}],\"pie\":[{\"automargin\":true,\"type\":\"pie\"}],\"scatter3d\":[{\"line\":{\"colorbar\":{\"outlinewidth\":1,\"tickcolor\":\"rgb(36,36,36)\",\"ticks\":\"outside\"}},\"marker\":{\"colorbar\":{\"outlinewidth\":1,\"tickcolor\":\"rgb(36,36,36)\",\"ticks\":\"outside\"}},\"type\":\"scatter3d\"}],\"scattercarpet\":[{\"marker\":{\"colorbar\":{\"outlinewidth\":1,\"tickcolor\":\"rgb(36,36,36)\",\"ticks\":\"outside\"}},\"type\":\"scattercarpet\"}],\"scattergeo\":[{\"marker\":{\"colorbar\":{\"outlinewidth\":1,\"tickcolor\":\"rgb(36,36,36)\",\"ticks\":\"outside\"}},\"type\":\"scattergeo\"}],\"scattergl\":[{\"marker\":{\"colorbar\":{\"outlinewidth\":1,\"tickcolor\":\"rgb(36,36,36)\",\"ticks\":\"outside\"}},\"type\":\"scattergl\"}],\"scattermapbox\":[{\"marker\":{\"colorbar\":{\"outlinewidth\":1,\"tickcolor\":\"rgb(36,36,36)\",\"ticks\":\"outside\"}},\"type\":\"scattermapbox\"}],\"scatterpolargl\":[{\"marker\":{\"colorbar\":{\"outlinewidth\":1,\"tickcolor\":\"rgb(36,36,36)\",\"ticks\":\"outside\"}},\"type\":\"scatterpolargl\"}],\"scatterpolar\":[{\"marker\":{\"colorbar\":{\"outlinewidth\":1,\"tickcolor\":\"rgb(36,36,36)\",\"ticks\":\"outside\"}},\"type\":\"scatterpolar\"}],\"scatter\":[{\"fillpattern\":{\"fillmode\":\"overlay\",\"size\":10,\"solidity\":0.2},\"type\":\"scatter\"}],\"scatterternary\":[{\"marker\":{\"colorbar\":{\"outlinewidth\":1,\"tickcolor\":\"rgb(36,36,36)\",\"ticks\":\"outside\"}},\"type\":\"scatterternary\"}],\"surface\":[{\"colorbar\":{\"outlinewidth\":1,\"tickcolor\":\"rgb(36,36,36)\",\"ticks\":\"outside\"},\"colorscale\":[[0.0,\"#440154\"],[0.1111111111111111,\"#482878\"],[0.2222222222222222,\"#3e4989\"],[0.3333333333333333,\"#31688e\"],[0.4444444444444444,\"#26828e\"],[0.5555555555555556,\"#1f9e89\"],[0.6666666666666666,\"#35b779\"],[0.7777777777777778,\"#6ece58\"],[0.8888888888888888,\"#b5de2b\"],[1.0,\"#fde725\"]],\"type\":\"surface\"}],\"table\":[{\"cells\":{\"fill\":{\"color\":\"rgb(237,237,237)\"},\"line\":{\"color\":\"white\"}},\"header\":{\"fill\":{\"color\":\"rgb(217,217,217)\"},\"line\":{\"color\":\"white\"}},\"type\":\"table\"}]},\"layout\":{\"annotationdefaults\":{\"arrowhead\":0,\"arrowwidth\":1},\"autotypenumbers\":\"strict\",\"coloraxis\":{\"colorbar\":{\"outlinewidth\":1,\"tickcolor\":\"rgb(36,36,36)\",\"ticks\":\"outside\"}},\"colorscale\":{\"diverging\":[[0.0,\"rgb(103,0,31)\"],[0.1,\"rgb(178,24,43)\"],[0.2,\"rgb(214,96,77)\"],[0.3,\"rgb(244,165,130)\"],[0.4,\"rgb(253,219,199)\"],[0.5,\"rgb(247,247,247)\"],[0.6,\"rgb(209,229,240)\"],[0.7,\"rgb(146,197,222)\"],[0.8,\"rgb(67,147,195)\"],[0.9,\"rgb(33,102,172)\"],[1.0,\"rgb(5,48,97)\"]],\"sequential\":[[0.0,\"#440154\"],[0.1111111111111111,\"#482878\"],[0.2222222222222222,\"#3e4989\"],[0.3333333333333333,\"#31688e\"],[0.4444444444444444,\"#26828e\"],[0.5555555555555556,\"#1f9e89\"],[0.6666666666666666,\"#35b779\"],[0.7777777777777778,\"#6ece58\"],[0.8888888888888888,\"#b5de2b\"],[1.0,\"#fde725\"]],\"sequentialminus\":[[0.0,\"#440154\"],[0.1111111111111111,\"#482878\"],[0.2222222222222222,\"#3e4989\"],[0.3333333333333333,\"#31688e\"],[0.4444444444444444,\"#26828e\"],[0.5555555555555556,\"#1f9e89\"],[0.6666666666666666,\"#35b779\"],[0.7777777777777778,\"#6ece58\"],[0.8888888888888888,\"#b5de2b\"],[1.0,\"#fde725\"]]},\"colorway\":[\"#1F77B4\",\"#FF7F0E\",\"#2CA02C\",\"#D62728\",\"#9467BD\",\"#8C564B\",\"#E377C2\",\"#7F7F7F\",\"#BCBD22\",\"#17BECF\"],\"font\":{\"color\":\"rgb(36,36,36)\"},\"geo\":{\"bgcolor\":\"white\",\"lakecolor\":\"white\",\"landcolor\":\"white\",\"showlakes\":true,\"showland\":true,\"subunitcolor\":\"white\"},\"hoverlabel\":{\"align\":\"left\"},\"hovermode\":\"closest\",\"mapbox\":{\"style\":\"light\"},\"paper_bgcolor\":\"white\",\"plot_bgcolor\":\"white\",\"polar\":{\"angularaxis\":{\"gridcolor\":\"rgb(232,232,232)\",\"linecolor\":\"rgb(36,36,36)\",\"showgrid\":false,\"showline\":true,\"ticks\":\"outside\"},\"bgcolor\":\"white\",\"radialaxis\":{\"gridcolor\":\"rgb(232,232,232)\",\"linecolor\":\"rgb(36,36,36)\",\"showgrid\":false,\"showline\":true,\"ticks\":\"outside\"}},\"scene\":{\"xaxis\":{\"backgroundcolor\":\"white\",\"gridcolor\":\"rgb(232,232,232)\",\"gridwidth\":2,\"linecolor\":\"rgb(36,36,36)\",\"showbackground\":true,\"showgrid\":false,\"showline\":true,\"ticks\":\"outside\",\"zeroline\":false,\"zerolinecolor\":\"rgb(36,36,36)\"},\"yaxis\":{\"backgroundcolor\":\"white\",\"gridcolor\":\"rgb(232,232,232)\",\"gridwidth\":2,\"linecolor\":\"rgb(36,36,36)\",\"showbackground\":true,\"showgrid\":false,\"showline\":true,\"ticks\":\"outside\",\"zeroline\":false,\"zerolinecolor\":\"rgb(36,36,36)\"},\"zaxis\":{\"backgroundcolor\":\"white\",\"gridcolor\":\"rgb(232,232,232)\",\"gridwidth\":2,\"linecolor\":\"rgb(36,36,36)\",\"showbackground\":true,\"showgrid\":false,\"showline\":true,\"ticks\":\"outside\",\"zeroline\":false,\"zerolinecolor\":\"rgb(36,36,36)\"}},\"shapedefaults\":{\"fillcolor\":\"black\",\"line\":{\"width\":0},\"opacity\":0.3},\"ternary\":{\"aaxis\":{\"gridcolor\":\"rgb(232,232,232)\",\"linecolor\":\"rgb(36,36,36)\",\"showgrid\":false,\"showline\":true,\"ticks\":\"outside\"},\"baxis\":{\"gridcolor\":\"rgb(232,232,232)\",\"linecolor\":\"rgb(36,36,36)\",\"showgrid\":false,\"showline\":true,\"ticks\":\"outside\"},\"bgcolor\":\"white\",\"caxis\":{\"gridcolor\":\"rgb(232,232,232)\",\"linecolor\":\"rgb(36,36,36)\",\"showgrid\":false,\"showline\":true,\"ticks\":\"outside\"}},\"title\":{\"x\":0.05},\"xaxis\":{\"automargin\":true,\"gridcolor\":\"rgb(232,232,232)\",\"linecolor\":\"rgb(36,36,36)\",\"showgrid\":false,\"showline\":true,\"ticks\":\"outside\",\"title\":{\"standoff\":15},\"zeroline\":false,\"zerolinecolor\":\"rgb(36,36,36)\"},\"yaxis\":{\"automargin\":true,\"gridcolor\":\"rgb(232,232,232)\",\"linecolor\":\"rgb(36,36,36)\",\"showgrid\":false,\"showline\":true,\"ticks\":\"outside\",\"title\":{\"standoff\":15},\"zeroline\":false,\"zerolinecolor\":\"rgb(36,36,36)\"}}},\"shapes\":[{\"line\":{\"color\":\"#CFD8DC\",\"width\":2},\"type\":\"line\",\"x0\":8.377192842960358,\"x1\":8.377192842960358,\"y0\":11.540578603744507,\"y1\":21.038594245910645},{\"line\":{\"color\":\"#9E9E9E\",\"width\":2},\"type\":\"line\",\"x0\":5.068487429618836,\"x1\":11.68589825630188,\"y0\":16.289586424827576,\"y1\":16.289586424827576}],\"annotations\":[{\"showarrow\":false,\"text\":\"D1\",\"x\":5.068487429618836,\"y\":16.289586424827576,\"yshift\":10},{\"showarrow\":false,\"text\":\"D2\",\"x\":8.377192842960358,\"xshift\":10,\"y\":21.038594245910645}],\"title\":{\"font\":{\"size\":22,\"color\":\"Black\"},\"text\":\"\\u003cb\\u003eDocuments and Topics\\u003c\\u002fb\\u003e\",\"x\":0.5,\"xanchor\":\"center\",\"yanchor\":\"top\"},\"width\":1200,\"height\":750,\"xaxis\":{\"visible\":false},\"yaxis\":{\"visible\":false}},                        {\"responsive\": true}                    )                };                            </script>        </div>"
      ],
      "text/plain": [
       "Figure({\n",
       "    'data': [{'hoverinfo': 'text',\n",
       "              'hovertext': array([\"🤯 crazy exchange on @modal_labs slack between @cognition_labs 's Devin &amp; modal's support team https://t.co/GZ6c5uaO5V\",\n",
       "                                  'if the 13-year and 17-year cicadas are both emerging this summer, a double emergence that only occurs every ~200yrs, and both will concentrate in Illinois, where more than 13% of US corn is grown, should we be shorting corn futures yes or no',\n",
       "                                  '@LowLevelTweets oh shit forgot the sun uses internet',\n",
       "                                  'if i was on v*rcel i would have gotten a 50k bill today',\n",
       "                                  'I think I speak for everyone here when I say: 314 billion parameters what the hell',\n",
       "                                  'First photo is scatter plot with a strong correlation between two variables that obviously should correlate (not to mention it is about as bivariate normal as you would see in nature). The next three are some of the replies… https://t.co/SXLf3rm5Do',\n",
       "                                  'The car was invented in 1886 but horses weren’t replaced as a means for transportation until 1920’s for early adopter regions and 1950’s everywhere.\\n\\nTransformative technology doesn’t appear everywhere immediately. The future is not evenly distributed and not easily distributed.',\n",
       "                                  'RT @itsandrewgao: 2nd out of 79 teams and 300+ hackers at the @scale_AI hackathon! Shoutout to my teammates @akapoor1201 @VidithBalasa @Ale…',\n",
       "                                  'The FCC just changed the broadband internet minimum requirement from 25mbps to 100mbps https://t.co/tyEQax9rOQ',\n",
       "                                  'At Berkeley, we drink real coffee. 6 shots of straight espresso, every morning (minimum).\\n- 1x speed, teleoperated from 6,965 miles away. \\n- 87ms photon-to-photon latency.\\n- Unprecedented dexterity.\\nHow did we do it? We lay out our unique technical approaches below and what… https://t.co/lG9tawOBVQ https://t.co/Ai3VL6aIJk',\n",
       "                                  'here’s a fun fact: almost all modern computer systems depend on a single time zone database that gets updated when local laws change\\n\\nit’s maintained by two people https://t.co/NBWjgot8JM',\n",
       "                                  '@cb_doge Blindsight is the next @Neuralink product after Telepathy',\n",
       "                                  'Very nice to see Grok go open-source &amp; open-weights: https://t.co/RTlvQarPzy',\n",
       "                                  'my wife bought a lamp that needs our wifi password\\n\\nthe future blows',\n",
       "                                  'today I set up vtuber software and a model all open source in like an hour. the renderer was on godot and the facial tracking was some random python script I found online. it actually works quite well and I will be hacking with it more',\n",
       "                                  'AI to read your mind is getting a LOT better.\\n\\nJust released: #MindEye2 is leagues ahead of previous AI systems\\n\\n(brain waves -&gt; CLIP space -&gt; pixels) https://t.co/JTSrJfh2RF',\n",
       "                                  '@neuralink Long-term, it is possible to shunt the signals from the brain motor cortex past the damaged part of the spine to enable people to walk again and use their arms normally',\n",
       "                                  'Open-source robot arm for about $200. It uses five Dynamixel servo motors and weighs slightly over 100g (without the base). The design for a leader arm is included as well so that you can teleoperate it effectively. (Video is at 1x speed)\\nhttps://t.co/2J1aS6IToF https://t.co/AtZK8C7c9z',\n",
       "                                  \"xz backdoor code shipped with a good ol' LGTM https://t.co/WlVAooN7Cb\",\n",
       "                                  \"@samschmitz Compare watt hour measurements from microprocessors whose electric connectivity or lack thereof is unknown\\n\\nThat's the resource. Lol\\n\\nOh...Linemen changed which Substation was feeding 462 of the 2,156 meters fed by this Distribution for 173.35 of the 8,760 hours last year?\\n\\nWe… https://t.co/MafLGdsEh7\",\n",
       "                                  'Only in #SanFrancisco does this ad make sense on a bullock at the train station.  A key rule of advertising is to know your customer.  Nailed it.  I\\'m thinking, \"yes, indeed, I do want to save $20M on my next H100 bill\". https://t.co/APkbMAYz85',\n",
       "                                  'We can think, even if our language abilities are destroyed by a stroke.\\nLanguage is a way to express thoughts, but thoughts, memories, and reasoning exist without language.\\n\\nFavorite quote from this MIT piece: \"This language system seems to be distinct from regions that are… https://t.co/6TAVKGtPAP https://t.co/LX4L1MAn4Y',\n",
       "                                  '@elonmusk @xai ░W░E░I░G░H░T░S░I░N░B░I░O░',\n",
       "                                  'I just hit 50k req/sec on a $25/mo VM. https://t.co/ED5B8YKn6y',\n",
       "                                  'Is anyone able to track Jia Tan’s (xz backdoor person) real identity? This guy is a menace to society.',\n",
       "                                  None], dtype=object),\n",
       "              'marker': {'color': '#CFD8DC', 'opacity': 0.5, 'size': 5},\n",
       "              'mode': 'markers+text',\n",
       "              'name': 'other',\n",
       "              'showlegend': False,\n",
       "              'type': 'scattergl',\n",
       "              'x': array([7.336881 , 6.5699134, 7.6986756, 8.140243 , 7.8931403, 6.5083485,\n",
       "                          8.654214 , 7.5240145, 7.885739 , 8.207318 , 7.072085 , 8.583103 ,\n",
       "                          6.1603975, 7.773062 , 6.317928 , 8.565897 , 8.694534 , 8.241678 ,\n",
       "                          9.635758 , 7.079407 , 8.164407 , 8.647582 , 8.7478895, 7.8418913,\n",
       "                          9.580633 , 7.90099  ], dtype=float32),\n",
       "              'y': array([16.283909 , 17.19205  , 17.534658 , 18.105211 , 16.692139 , 17.10225  ,\n",
       "                          16.282816 , 15.935648 , 17.957682 , 15.891165 , 17.081125 , 15.470342 ,\n",
       "                          14.968243 , 17.346167 , 15.276451 , 15.4679365, 15.244956 , 16.044731 ,\n",
       "                          16.147213 , 17.033436 , 18.000818 , 15.133534 , 16.44845  , 18.018925 ,\n",
       "                          16.232307 , 16.515686 ], dtype=float32)},\n",
       "             {'hoverinfo': 'text',\n",
       "              'hovertext': array(['average C bug: buried deep in a long 200 line function you forgot to unlink an element from a linked list before freeing it\\n\\naverage C++ bug: you wrote “a = b;” but unbeknownst to you “a” has = overloaded and the code for that makes subtle assumptions that are false in your case',\n",
       "                                  'Bitcoin is a bounty for SHA-256',\n",
       "                                  \"No need to hire me, just open source the 7900XTX firmware+docs and remove the signature check. We'd treat it like bring up for our own chip, get builds in CI, HITL testing, fuzzing, etc...\\n\\nDeadline, end of the week? Otherwise I'm not spending more time thinking about this. https://t.co/x8XVy6aM4B\",\n",
       "                                  'How to write CUDA on AMD. https://t.co/CMQRMwkqgn',\n",
       "                                  \"I think our most crucial finding is that although humans think far ahead while speaking (especially while doing complex reasoning problems) it turns out that transformer language models.... don't seem to do that.\\n\\nthey just predict the next token. https://t.co/0mNUYAJ3PU\",\n",
       "                                  'Update I replaced (X/Y) with X*(1/Y) and now it passes timing check. \\n\\nI learned this trick from some girl from MIT at my last job lol. Everyone is blown away with my skills. \\n\\nThere is no reason why it’s inherently faster just synthesis tools optimize it better. https://t.co/VcduwI76iZ',\n",
       "                                  \"Ahh, with the founder of Groq...how about a $10k wager?\\n\\nWe keep the machine if we succeed. You get the machine back and $10k if we don't deliver open source 500+ T/s mixtral within 8 weeks. https://t.co/VFm1wEVDgm\",\n",
       "                                  'I watched @ylecun episode on @lexfridman and I think his bigger point is we should use a different architecture to actually make AI understand concepts\\n\\nInstead of just autocompleting word tokens like in LLMs or pixels/patches in image/video gen\\n\\nHe wants an AI to actually… https://t.co/OArpAOMnrh https://t.co/7scsRvFIzm',\n",
       "                                  'A nice example of how LLMs use statistics (a common riddle) and not understanding (what the question actually means). https://t.co/5Dtq60yxgX',\n",
       "                                  \"We are putting resources into Intel now. multiGPU training worked out of the box, and haven't seen a lick of driver instability. The A770 card is currently slow though, we need to add XMX support ($400 bounty added) https://t.co/GPhGD4kgnT\",\n",
       "                                  'My daughter asked today why it is impossible to divide by zero. \\n\\nThe analogy with dividing apples for people doesn’t work anymore 😂\\n\\nDo you know why, without googling?',\n",
       "                                  \"Researcher in deep-learning adjusting the model's architecture to beat the benchmarks. https://t.co/lFHvqb2Usp\",\n",
       "                                  'CUDA-MODE 10: Build a production ready CUDA library\\n\\nDiscover solutions for fast prototyping, performance tuning and get a fresh take on CUDA code organization. Speaker: @morousg\\n \\nSat, Mar 16, 19:00 UTC\\n\\nhttps://t.co/VZqlR3QC76 https://t.co/ta6AcVj0Tg',\n",
       "                                  'We converted each frame to a 32x64 grid where each pixel contained the object on the frame buffer so that the LLM could \"see\". \\n\\nThere was a bit of prompt refinement needed here to make sure that the model could interpret the grid properly.\\n\\nThis video shows what the grid looks… https://t.co/yVpUCHLjRt https://t.co/gAhZirIEUT',\n",
       "                                  'Today, we are releasing Stable Video 3D, a generative model based on Stable Video Diffusion. This new model advances the field of 3D technology, delivering greatly improved quality and multi-view.\\n\\nThe model is available now for commercial and non-commercial use with a Stability… https://t.co/YicNGTciax https://t.co/cc5T9RRH3L',\n",
       "                                  \"2h of debugging. Whatever you say, that's counter intuitive. https://t.co/jMtr6dFcl7\",\n",
       "                                  '## nous x replicate meetup thread \\n\\nRepresentation Engineering an Acid Trip \\nby @voooooogel https://t.co/4wGXwO2tzi',\n",
       "                                  \"The GGUF file format is a great example of the cool things that an open-source community can achieve.\\n\\nProps to @philpax_ and everyone else involved in the design and implementation of the format. I'm thankful and happy to see that it finds adoption in ML\\n\\nhttps://t.co/dRPSBUSPuN https://t.co/vERPTpRRAW\",\n",
       "                                  'reading the source code of projects using LLMs is hilarious because you can see programmers pleading with GPT 4 https://t.co/I8M0OS21jG',\n",
       "                                  \"April Fools!  \\n\\nThe part which isn't funny is that FFmpeg is a project written by volunteers which receives essentially no funding from VC backed Silicon Valley companies who raise tons of money off the back of FFmpeg and build their products and services using FFmpeg.\",\n",
       "                                  'tinybox with 6x Intel Arc A770 is colorful! https://t.co/sM1GwIqnMn',\n",
       "                                  'If you were to train GPT-4, 1.8T params model, \\n\\nOn A100, it will take 25k A100s and take 3-5 months.\\n\\nOn H100, it will take 8k GPUs and take ~3 months.\\n\\nOn B100, it will take 2k GPUs and take ~ 3 months.\\n\\n- Jenson at GTC.',\n",
       "                                  'Tenstorrent still has a long road to go, and I think aiming for LLM benchmarks and PyTorch integration is dumb. They need to be thinking on a longer timeline than this.\\n\\n@nvidia has moved the earth to get the interconnect bandwidths to where they are. If you told someone 10 years… https://t.co/DWIhiGyd1W',\n",
       "                                  'A lot of the value from ChatGPT comes in mundane/mindless drudgery, not deep thinking.\\n\\nPeople like @GaryMarcus overlook the genuine value here:\\n- installing nvidia drivers\\n- sorting out messed up ruby version\\n- setting up custom domain name\\n\\nMany such cases.',\n",
       "                                  'Introducing Inversion: fast, reliable structured LLMs\\n\\nhttps://t.co/iyWUSbSbWI https://t.co/dLolpV2hYw',\n",
       "                                  'Something that makes SWE a particularly feasible task for LLMs is that code is very verifiable (not in the crypto sense) and you get instant feedback\\n\\nIf your LLM writes code, you can instantly know if it\\'s \"correct\" or not if it compiles.\\n\\nBut this isn\\'t always the case, like… https://t.co/2mDr54plfL',\n",
       "                                  'Vision behind the Apple Open project axlearn project is really intriguing 🧐 “AXLearn supports the training of models with up to hundreds of billions of parameters across thousands of accelerators on a virtual global computer” https://t.co/5OXUgmcifa',\n",
       "                                  \"Imagine being called 'former salesforce exec' instead of 'ML researcher with 170,000+ citations' https://t.co/duAIrIWPQu\",\n",
       "                                  '@nathanmllr funny enough though I regenerated the ChatGPT Classic (i.e. no python calculator available) answer a couple of times and in one of them it seems to have hallucinated a floating point error https://t.co/II0DlskVXC',\n",
       "                                  'I was fired from OpenAI this morning.  I was the person responsible for deleting gpt35-lp-f-240108-720-joshtest-delete-or-you-will-be-fired. https://t.co/NMdMlAzmHw',\n",
       "                                  'TIL Noam Shazeer also built out Google’s spelling correction system: https://t.co/pNgo5xUmUj',\n",
       "                                  \"🎉🎉🎉\\n\\nAlso, I'm hiring for an MLE/SWE! If you want to build LLMs with @cohere and are interested in developing challenging model evaluation settings + curating high-quality data, please reach out!\\n\\nICYMI: We also just opened our NYC office 👀 https://t.co/jRdYHWgORA\",\n",
       "                                  \"The AMD tinybox is on hold until we can build and run the relevant firmware on our GPUs.\\n\\nThe driver is still very unstable, and when it crashes or hangs we have no way of debugging it. We have no way of dumping the state of a GPU. Apparently it isn't just the MES causing these… https://t.co/CoA5bj4VYT\",\n",
       "                                  'MLX Swift MNIST example got a little face-lift. \\n\\nTrain a LeNet on device, then draw and classify digits. Thanks to Rounak for the contribution https://t.co/ri9EPpXilu !\\n\\nGuide: https://t.co/hpHDhEFJQs \\nRunning on my iPhone 14: https://t.co/dYuS0vzU1J',\n",
       "                                  'Open offer.\\n\\nIf someone buys me a 8xH100 SXM machine, we will beat the 500 T/s of the Mixtral demo from @GroqInc on it in 8 weeks (in tinygrad!), or your machine back.',\n",
       "                                  \"This is similar to how I found @EricSteinb. He was just an undergrad, but he did research on his own and put a solo paper on arxiv that followed up on my work. I was impressed, so I invited him to work with me. There's a lot of talent out there with non-traditional backgrounds. https://t.co/6NLrnRybSh\",\n",
       "                                  \"We'll run @xai's model on @GroqInc LPUs when it's renamed to Slartibartfast.\\n\\nhttps://t.co/0LMu5O3JND\",\n",
       "                                  'I explain Objective-Driven AI, with inference by energy minimization, as opposed to Auto-Regressive prediction. https://t.co/sm3n9WPeES',\n",
       "                                  'EagleX 7B with only 1.7 Trillion tokens\\nJust beat llama2 7B, on average in English evals\\n\\nBringing into open source research the best\\n- multi-lingual model (beating even mistral) \\n- english model at &lt;= 2T tokens (beating LLaMA)\\n- all while being attention free linear transformer https://t.co/PzklFLiOOT',\n",
       "                                  \"&gt;cracked director of engineering recommends me this code book\\n&gt;ask him if the book will help me pass leetcode FAANG interviews\\n&gt;he doesn't understand\\n&gt;explain him that i need to solve 4sum\\n&gt;he laughs and says it's a good book\\n&gt;look inside\\n&gt;anatomy of a flashlight https://t.co/GP7RphsP8P\",\n",
       "                                  \"🚀 𝐂𝐨𝐡𝐞𝐫𝐞 𝐄𝐦𝐛𝐞𝐝 𝐕𝟑 - 𝐢𝐧𝐭𝟖 &amp; 𝐛𝐢𝐧𝐚𝐫𝐲 𝐒𝐮𝐩𝐩𝐨𝐫𝐭🚀\\n\\nI'm excited to launch our native support for int8 &amp; binary embeddings for Cohere Embed V3.\\n\\nThey slash your vector DB cost 4x - 32x while keeping 95% - 100% of the search quality.\\nhttps://t.co/uJBg6nyPvf https://t.co/3TVabwKm52\",\n",
       "                                  \"No.\\nIf it were the case, we would have AI systems that could teach themselves to drive a car in 20 hours of practice, like any 17 year-old.\\n\\nBut we still don't have fully autonomous, reliable self-driving, even though we (you) have millions of hours of *labeled* training data. https://t.co/IqsAYQHfdW\",\n",
       "                                  None], dtype=object),\n",
       "              'marker': {'opacity': 0.5, 'size': 5},\n",
       "              'mode': 'markers+text',\n",
       "              'name': '0_- Open-Source Firmware Development for GPUs',\n",
       "              'text': array(['', '', '', '', '', '', '', '', '', '', '', '', '', '', '', '', '', '',\n",
       "                             '', '', '', '', '', '', '', '', '', '', '', '', '', '', '', '', '', '',\n",
       "                             '', '', '', '', '', '', '0_- Open-Source Firmware Development for GPUs'],\n",
       "                            dtype=object),\n",
       "              'textfont': {'size': 12},\n",
       "              'type': 'scattergl',\n",
       "              'x': array([7.4660335, 7.013484 , 6.7467694, 6.436137 , 8.124632 , 7.7392797,\n",
       "                          6.755116 , 7.5821505, 6.6736264, 6.8534174, 6.3803496, 7.3954244,\n",
       "                          6.3531837, 6.69173  , 6.687523 , 7.9057326, 7.2239876, 6.0552545,\n",
       "                          6.7836843, 5.9629264, 6.355435 , 6.9468737, 7.036757 , 6.2106013,\n",
       "                          7.236963 , 6.870777 , 7.344781 , 7.0204897, 6.3889103, 6.6225543,\n",
       "                          7.0400352, 7.099905 , 6.5650244, 7.362802 , 6.6727796, 7.2377753,\n",
       "                          7.098821 , 7.642307 , 7.4579825, 7.4105988, 6.9610214, 7.7647376,\n",
       "                          6.980438 ], dtype=float32),\n",
       "              'y': array([16.646221 , 13.577151 , 13.661828 , 14.452354 , 14.958695 , 16.167126 ,\n",
       "                          13.7978325, 14.995335 , 16.594135 , 14.049885 , 16.462626 , 15.563942 ,\n",
       "                          14.522124 , 15.188637 , 15.063711 , 16.777428 , 15.194531 , 14.874176 ,\n",
       "                          16.055439 , 14.85746  , 13.817449 , 14.15055  , 13.920774 , 15.956498 ,\n",
       "                          15.013417 , 15.775295 , 14.409996 , 15.736563 , 16.179165 , 15.8076105,\n",
       "                          16.55719  , 15.146789 , 14.065657 , 14.668692 , 13.763782 , 15.537574 ,\n",
       "                          14.448091 , 15.229088 , 14.500198 , 16.560143 , 14.897545 , 15.1321945,\n",
       "                          15.112737 ], dtype=float32)},\n",
       "             {'hoverinfo': 'text',\n",
       "              'hovertext': array(['RT @Joe_MainMixon: Part 2😈', 'seriously now https://t.co/LZGP5tmxpG',\n",
       "                                  \"@carmguti @AdonAlternative I'll leave this masterpiece here. https://t.co/rXXwUIMhjw\",\n",
       "                                  'Deja Vu https://t.co/QEvVkoNc3t',\n",
       "                                  'Challenge accepted! 😀 https://t.co/AY7rIdna0e',\n",
       "                                  \"@LinusEkenstam I can't tell what I can trust today. Will check back tomorrow.\",\n",
       "                                  'Bengals, OT Trent Brown agree to terms on one-year deal. (via @RapSheet) https://t.co/uPKOekunYA',\n",
       "                                  'https://t.co/OMIeGGjYtG',\n",
       "                                  'Further reading from @lorenzofb: https://t.co/sHFZ0rTQFE https://t.co/Ih7ujqIJ9h',\n",
       "                                  '🔥🔥🔥 https://t.co/YlgQKRg6YI',\n",
       "                                  'Woah @__tinygrad__ way to go.  Massive achievement\\n\\nhttps://t.co/ZFQnJMNq2I',\n",
       "                                  'Only posting Zack Moss pass pro highlights as I watch his film https://t.co/5DitTH7fqF',\n",
       "                                  \"We're announcing TacticAI: an AI assistant capable of offering insights to football experts on corner kicks. ⚽\\n\\nDeveloped with @LFC, it can help teams sample alternative player setups to evaluate possible outcomes, and achieves state-of-the-art results. 🧵… https://t.co/Jk7NrzqXnQ https://t.co/8oVYtamGGe\",\n",
       "                                  'We\\'re going to talk about \"Contact Balance\" with Zack Moss https://t.co/wGgepauhNb',\n",
       "                                  'This just dropped this morning https://t.co/gkRhORXsV9',\n",
       "                                  '@aidan_mclau Are you doing it?',\n",
       "                                  \"New Bengals DT Sheldon Rankins took us down memory lane today and pointed out some of the big sacks he's had against Cincinnati. (video via @Bengals) https://t.co/yxGxzzSAoI\",\n",
       "                                  'That explains 😅 https://t.co/yT3WWRybrn',\n",
       "                                  '@linaeons dingboarddddddddd',\n",
       "                                  'This is exactly my view too: https://t.co/tOx9Eqprht',\n",
       "                                  'I’m so well prepared for this https://t.co/rUH0yzhbLs https://t.co/5i4Q1ZwFIA',\n",
       "                                  'https://t.co/cLn56MVCcX',\n",
       "                                  'RT @adaanahii: People are so quick to criticize vegans when we literally are only adding positivity to the world.',\n",
       "                                  \"why are you booing me.  I'm right. https://t.co/VpTQPzVluX\",\n",
       "                                  '@___frye This is literally prof eggert from ucla',\n",
       "                                  \"@krishnanrohit @AmazonKindle I stopped buying Kindle books a long time ago once I realized how weird the concept of 'ownership' is on Amazon digital\",\n",
       "                                  \"it's over https://t.co/FG2I7vpXks\",\n",
       "                                  'Mark Zuckerberg emails Facebook execs\\n\\nJune 9, 2016 https://t.co/sonY5Bj74F',\n",
       "                                  \"RT @JoeyB: Might as well win it all while we're at it\",\n",
       "                                  'My boulder rolling Sisyphus rage game so far, what do you think? https://t.co/oMvo36st8q',\n",
       "                                  \"it's such a shame palindrome is not a palindrome\",\n",
       "                                  'the @realGeorgeHotz effect https://t.co/Estmdt3gk6',\n",
       "                                  'many such cases https://t.co/964SoBXnVN',\n",
       "                                  'Introducing the 01 Developer Preview.\\n\\nOrder or build your own today: https://t.co/ROEcj9jVPX\\n\\nThe 01 Light is a portable voice interface that controls your home computer. It can see your screen, use your apps, and learn new skills.\\n\\nThis is only the beginning for 01— the… https://t.co/plTD4NfH1b https://t.co/J5VoWlCI5i',\n",
       "                                  \"i don't want to sound cynical but do you guys think they purposefully put scenes like this in movies specifically so they can be turned into memes online https://t.co/PZrK4ZiFfk\",\n",
       "                                  None], dtype=object),\n",
       "              'marker': {'opacity': 0.5, 'size': 5},\n",
       "              'mode': 'markers+text',\n",
       "              'name': ('1_\"Exploring the Impact of AI ' ... 'ion with 01 Developer Preview\"'),\n",
       "              'text': array(['', '', '', '', '', '', '', '', '', '', '', '', '', '', '', '', '', '',\n",
       "                             '', '', '', '', '', '', '', '', '', '', '', '', '', '', '', '', '',\n",
       "                             '1_\"Exploring the Impact of AI in Sports and Home Automation with 01 Developer Preview\"'],\n",
       "                            dtype=object),\n",
       "              'textfont': {'size': 12},\n",
       "              'type': 'scattergl',\n",
       "              'x': array([ 9.750971 ,  9.393379 ,  9.67399  ,  9.138971 ,  9.850856 ,  8.8814125,\n",
       "                          10.070473 ,  9.2592745,  9.2250595, 10.161651 ,  9.833898 ,  9.827557 ,\n",
       "                           9.327442 ,  9.840619 ,  9.235933 ,  9.586234 ,  9.988717 ,  8.583701 ,\n",
       "                          10.030243 ,  8.650108 , 10.071033 ,  8.662979 ,  8.938904 ,  8.754911 ,\n",
       "                           9.023151 ,  8.505242 ,  9.416865 ,  8.885483 ,  9.678722 ,  9.791913 ,\n",
       "                           8.936139 ,  9.3537245,  9.405134 ,  8.411457 ,  8.760084 ,  9.340178 ],\n",
       "                         dtype=float32),\n",
       "              'y': array([16.973024, 18.062422, 17.16497 , 18.136782, 17.691765, 17.07201 ,\n",
       "                          17.957573, 16.768639, 17.11616 , 17.192366, 17.357843, 16.760742,\n",
       "                          16.53042 , 16.82533 , 16.820282, 17.96746 , 18.078363, 18.01839 ,\n",
       "                          17.143831, 17.442211, 17.49625 , 16.979332, 17.497183, 17.798004,\n",
       "                          17.34236 , 17.384726, 17.627693, 16.841413, 17.417881, 17.724651,\n",
       "                          18.29443 , 17.583635, 16.97941 , 16.682468, 17.747814, 17.385082],\n",
       "                         dtype=float32)}],\n",
       "    'layout': {'annotations': [{'showarrow': False,\n",
       "                                'text': 'D1',\n",
       "                                'x': 5.068487429618836,\n",
       "                                'y': 16.289586424827576,\n",
       "                                'yshift': 10},\n",
       "                               {'showarrow': False,\n",
       "                                'text': 'D2',\n",
       "                                'x': 8.377192842960358,\n",
       "                                'xshift': 10,\n",
       "                                'y': 21.038594245910645}],\n",
       "               'height': 750,\n",
       "               'shapes': [{'line': {'color': '#CFD8DC', 'width': 2},\n",
       "                           'type': 'line',\n",
       "                           'x0': 8.377192842960358,\n",
       "                           'x1': 8.377192842960358,\n",
       "                           'y0': 11.540578603744507,\n",
       "                           'y1': 21.038594245910645},\n",
       "                          {'line': {'color': '#9E9E9E', 'width': 2},\n",
       "                           'type': 'line',\n",
       "                           'x0': 5.068487429618836,\n",
       "                           'x1': 11.68589825630188,\n",
       "                           'y0': 16.289586424827576,\n",
       "                           'y1': 16.289586424827576}],\n",
       "               'template': '...',\n",
       "               'title': {'font': {'color': 'Black', 'size': 22},\n",
       "                         'text': '<b>Documents and Topics</b>',\n",
       "                         'x': 0.5,\n",
       "                         'xanchor': 'center',\n",
       "                         'yanchor': 'top'},\n",
       "               'width': 1200,\n",
       "               'xaxis': {'visible': False},\n",
       "               'yaxis': {'visible': False}}\n",
       "})"
      ]
     },
     "execution_count": 21,
     "metadata": {},
     "output_type": "execute_result"
    }
   ],
   "source": [
    "reduced_embeddings = UMAP(n_neighbors=10, n_components=2, min_dist=0.0, metric='cosine').fit_transform(x)\n",
    "topic_model.visualize_documents(text_list, reduced_embeddings=reduced_embeddings)"
   ]
  }
 ],
 "metadata": {
  "kernelspec": {
   "display_name": ".venv",
   "language": "python",
   "name": "python3"
  },
  "language_info": {
   "codemirror_mode": {
    "name": "ipython",
    "version": 3
   },
   "file_extension": ".py",
   "mimetype": "text/x-python",
   "name": "python",
   "nbconvert_exporter": "python",
   "pygments_lexer": "ipython3",
   "version": "3.9.0"
  }
 },
 "nbformat": 4,
 "nbformat_minor": 2
}
